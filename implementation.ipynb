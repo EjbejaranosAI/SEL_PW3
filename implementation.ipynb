{
 "cells": [
  {
   "cell_type": "code",
   "execution_count": 1,
   "metadata": {
    "collapsed": false,
    "pycharm": {
     "name": "#%%\n"
    }
   },
   "outputs": [
    {
     "name": "stdout",
     "output_type": "stream",
     "text": [
      "Requirement already satisfied: lxml in /Users/edisonjairbejaranosepulveda/.local/lib/python3.9/site-packages (4.9.0)\n"
     ]
    }
   ],
   "source": [
    "!pip install lxml"
   ]
  },
  {
   "cell_type": "code",
   "execution_count": 2,
   "metadata": {
    "collapsed": false,
    "pycharm": {
     "name": "#%%\n"
    }
   },
   "outputs": [
    {
     "ename": "ImportError",
     "evalue": "dlopen(/Users/edisonjairbejaranosepulveda/.local/lib/python3.9/site-packages/lxml/objectify.cpython-39-darwin.so, 0x0002): tried: '/Users/edisonjairbejaranosepulveda/.local/lib/python3.9/site-packages/lxml/objectify.cpython-39-darwin.so' (mach-o file, but is an incompatible architecture (have 'x86_64', need 'arm64e'))",
     "output_type": "error",
     "traceback": [
      "\u001b[0;31m---------------------------------------------------------------------------\u001b[0m",
      "\u001b[0;31mImportError\u001b[0m                               Traceback (most recent call last)",
      "\u001b[1;32m/Users/edisonjairbejaranosepulveda/Documents/AI_Master/Assigments/SEL_PW3/implementation.ipynb Cell 2'\u001b[0m in \u001b[0;36m<cell line: 4>\u001b[0;34m()\u001b[0m\n\u001b[1;32m      <a href='vscode-notebook-cell:/Users/edisonjairbejaranosepulveda/Documents/AI_Master/Assigments/SEL_PW3/implementation.ipynb#ch0000001?line=0'>1</a>\u001b[0m \u001b[39mimport\u001b[39;00m \u001b[39mrandom\u001b[39;00m\n\u001b[1;32m      <a href='vscode-notebook-cell:/Users/edisonjairbejaranosepulveda/Documents/AI_Master/Assigments/SEL_PW3/implementation.ipynb#ch0000001?line=2'>3</a>\u001b[0m \u001b[39m# Own libraries\u001b[39;00m\n\u001b[0;32m----> <a href='vscode-notebook-cell:/Users/edisonjairbejaranosepulveda/Documents/AI_Master/Assigments/SEL_PW3/implementation.ipynb#ch0000001?line=3'>4</a>\u001b[0m \u001b[39mfrom\u001b[39;00m \u001b[39msrc\u001b[39;00m\u001b[39m.\u001b[39;00m\u001b[39mcbr\u001b[39;00m\u001b[39m.\u001b[39;00m\u001b[39mcbr\u001b[39;00m \u001b[39mimport\u001b[39;00m CBR\n\u001b[1;32m      <a href='vscode-notebook-cell:/Users/edisonjairbejaranosepulveda/Documents/AI_Master/Assigments/SEL_PW3/implementation.ipynb#ch0000001?line=4'>5</a>\u001b[0m \u001b[39mfrom\u001b[39;00m \u001b[39msrc\u001b[39;00m\u001b[39m.\u001b[39;00m\u001b[39mentity\u001b[39;00m\u001b[39m.\u001b[39;00m\u001b[39mquery\u001b[39;00m \u001b[39mimport\u001b[39;00m Query\n\u001b[1;32m      <a href='vscode-notebook-cell:/Users/edisonjairbejaranosepulveda/Documents/AI_Master/Assigments/SEL_PW3/implementation.ipynb#ch0000001?line=5'>6</a>\u001b[0m \u001b[39mfrom\u001b[39;00m \u001b[39mdefinitions\u001b[39;00m \u001b[39mimport\u001b[39;00m CASE_LIBRARY \u001b[39mas\u001b[39;00m CASE_LIBRARY_PATH\n",
      "File \u001b[0;32m~/Documents/AI_Master/Assigments/SEL_PW3/src/cbr/cbr.py:4\u001b[0m, in \u001b[0;36m<module>\u001b[0;34m\u001b[0m\n\u001b[1;32m      1\u001b[0m \u001b[39mimport\u001b[39;00m \u001b[39mcopy\u001b[39;00m\n\u001b[1;32m      2\u001b[0m \u001b[39mimport\u001b[39;00m \u001b[39mrandom\u001b[39;00m\n\u001b[0;32m----> 4\u001b[0m \u001b[39mfrom\u001b[39;00m \u001b[39mlxml\u001b[39;00m\u001b[39m.\u001b[39;00m\u001b[39mobjectify\u001b[39;00m \u001b[39mimport\u001b[39;00m SubElement\n\u001b[1;32m      6\u001b[0m \u001b[39mfrom\u001b[39;00m \u001b[39mdefinitions\u001b[39;00m \u001b[39mimport\u001b[39;00m CASE_LIBRARY_FILE \u001b[39mas\u001b[39;00m CASE_LIBRARY_PATH\n\u001b[1;32m      7\u001b[0m \u001b[39mfrom\u001b[39;00m \u001b[39msrc\u001b[39;00m\u001b[39m.\u001b[39;00m\u001b[39mcbr\u001b[39;00m\u001b[39m.\u001b[39;00m\u001b[39mcase_library\u001b[39;00m \u001b[39mimport\u001b[39;00m CaseLibrary\n",
      "\u001b[0;31mImportError\u001b[0m: dlopen(/Users/edisonjairbejaranosepulveda/.local/lib/python3.9/site-packages/lxml/objectify.cpython-39-darwin.so, 0x0002): tried: '/Users/edisonjairbejaranosepulveda/.local/lib/python3.9/site-packages/lxml/objectify.cpython-39-darwin.so' (mach-o file, but is an incompatible architecture (have 'x86_64', need 'arm64e'))"
     ]
    }
   ],
   "source": [
    "import random\n",
    "\n",
    "# Own libraries\n",
    "from src.cbr.cbr import CBR\n",
    "from src.entity.query import Query\n",
    "from definitions import CASE_LIBRARY as CASE_LIBRARY_PATH\n",
    "from src.cbr.case_library import CaseLibrary, ConstraintsBuilder\n",
    "\n",
    "random.seed(10)"
   ]
  },
  {
   "cell_type": "code",
   "execution_count": 11,
   "metadata": {
    "collapsed": false,
    "pycharm": {
     "name": "#%%\n"
    }
   },
   "outputs": [
    {
     "name": "stdout",
     "output_type": "stream",
     "text": [
      "Done\n"
     ]
    }
   ],
   "source": [
    "query = Query()\n",
    "query.set_category(\"ordinary drink\")\n",
    "query.set_glass(\"old-fashioned glass\")\n",
    "query.set_ingredients([\"orange juice\"])\n",
    "query.set_exc_ingredients([\"rum\", \"grenadine\"])\n",
    "query.set_alc_types([\"gin\"])\n",
    "query.set_basic_tastes([\"salty\"])\n",
    "\n",
    "# TODO: retrieve 5 recipes similar to the query from the case library\n",
    "# Random recipes for now\n",
    "CASE_LIBRARY = CaseLibrary(CASE_LIBRARY_PATH)\n",
    "CONSTRAINT = ConstraintsBuilder(include_category=query.get_category(), include_glass=query.get_glass())\n",
    "recipes = random.choices(CASE_LIBRARY.findall(CONSTRAINT), k=5)\n",
    "print(\"Done\")"
   ]
  },
  {
   "cell_type": "code",
   "execution_count": 12,
   "metadata": {
    "collapsed": false,
    "pycharm": {
     "name": "#%%\n"
    }
   },
   "outputs": [],
   "source": [
    "query = Query()\n",
    "query.set_category(\"ordinary drink\")\n",
    "query.set_glass(\"old-fashioned glass\")\n",
    "query.set_ingredients([\"orange juice\"])\n",
    "query.set_exc_ingredients([\"rum\", \"grenadine\"])\n",
    "query.set_alc_types([\"gin\"])\n",
    "query.set_basic_tastes([\"salty\"])\n",
    "\n",
    "# TODO: retrieve 5 recipes similar to the query from the case library\n",
    "# Random recipes for now\n",
    "CASE_LIBRARY = CaseLibrary(CASE_LIBRARY_PATH)\n",
    "CONSTRAINT = ConstraintsBuilder(include_category=query.get_category(), include_glass=query.get_glass())\n",
    "recipes = random.choices(CASE_LIBRARY.findall(CONSTRAINT), k=5)"
   ]
  },
  {
   "cell_type": "code",
   "execution_count": 13,
   "metadata": {
    "collapsed": false,
    "pycharm": {
     "name": "#%%\n"
    }
   },
   "outputs": [
    {
     "name": "stdout",
     "output_type": "stream",
     "text": [
      "Ingredients before: ['soda water', 'prosecco', 'campari']\n",
      "Steps before: ['build into glass over ice, garnish and serve']\n",
      "Ingredients after: ['soda water', 'prosecco', 'campari', 'orange juice', 'gin', 'worcestershire sauce']\n",
      "Steps after: ['build into glass over ice, garnish and serve', 'add 1/2 tsp of ingr5', 'add 1 oz of ingr4', 'add ingr3 to taste']\n"
     ]
    }
   ],
   "source": [
    "print(f\"Ingredients before: {[e.text for e in recipes[0].ingredients.iterchildren()]}\")\n",
    "print(f\"Steps before: {[e.text for e in recipes[0].preparation.iterchildren()]}\")\n",
    "\n",
    "cbr = CBR()\n",
    "cbr.retrieve(query=query, recipes=recipes)\n",
    "cbr.adapt()\n",
    "output = cbr.recipe\n",
    "\n",
    "print(f\"Ingredients after: {[e.text for e in output.ingredients.iterchildren()]}\")\n",
    "print(f\"Steps after: {[e.text for e in output.preparation.iterchildren()]}\")"
   ]
  },
  {
   "cell_type": "code",
   "execution_count": null,
   "metadata": {
    "pycharm": {
     "name": "#%%\n"
    }
   },
   "outputs": [],
   "source": [
    "# use the class cbr to evaluate the function with the query and the recipes\n",
    "cbr.evaluate(query, recipes)\n",
    "# print the result\n",
    "print(cbr.result)\n",
    "# print the recipe\n",
    "print(cbr.recipe)\n",
    "# print the recipe with the ingredients and steps\n",
    "print(cbr.recipe.ingredients.text)\n",
    "print(cbr.recipe.preparation.text)\n",
    "# print the recipe with the ingredients and steps\n",
    "print(cbr.recipe.ingredients.text)\n",
    "# Learn the recipe with the ingredients and steps and the recipe with the ingredients and steps\n",
    "cbr.learn(query, recipes)\n",
    "# print the result\n",
    "print(cbr.result)\n",
    "# print the score of the recipe and the similarity between the query and the recipe\n",
    "print(cbr.score)\n",
    "print(cbr.similarity)"
   ]
  }
 ],
 "metadata": {
  "kernelspec": {
   "display_name": "Python 3.9.12 ('base')",
   "language": "python",
   "name": "python3"
  },
  "language_info": {
   "codemirror_mode": {
    "name": "ipython",
    "version": 3
   },
   "file_extension": ".py",
   "mimetype": "text/x-python",
   "name": "python",
   "nbconvert_exporter": "python",
   "pygments_lexer": "ipython3",
   "version": "3.9.12"
  },
  "orig_nbformat": 4,
  "vscode": {
   "interpreter": {
    "hash": "c6e4e9f98eb68ad3b7c296f83d20e6de614cb42e90992a65aa266555a3137d0d"
   }
  }
 },
 "nbformat": 4,
 "nbformat_minor": 2
}
