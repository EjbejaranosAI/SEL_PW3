{
 "cells": [
  {
   "cell_type": "code",
   "execution_count": 1,
   "metadata": {
    "collapsed": false,
    "pycharm": {
     "name": "#%%\n"
    }
   },
   "outputs": [
    {
     "name": "stdout",
     "output_type": "stream",
     "text": [
      "Requirement already satisfied: lxml in c:\\users\\yazmina\\documents\\master ai\\sel\\coursework\\sel_pw3\\.venv\\lib\\site-packages (4.9.0)\n"
     ]
    },
    {
     "name": "stderr",
     "output_type": "stream",
     "text": [
      "WARNING: You are using pip version 21.3.1; however, version 22.1.2 is available.\n",
      "You should consider upgrading via the 'C:\\Users\\Yazmina\\Documents\\MASTER AI\\SEL\\Coursework\\SEL_PW3\\.venv\\Scripts\\python.exe -m pip install --upgrade pip' command.\n"
     ]
    }
   ],
   "source": [
    "!pip install lxml"
   ]
  },
  {
   "cell_type": "code",
   "execution_count": 1,
   "outputs": [],
   "source": [
    "import random\n",
    "\n",
    "# Own libraries\n",
    "from cbr.cbr import CBR\n",
    "from src.entity.query import Query\n",
    "from definitions import CASE_LIBRARY as CASE_LIBRARY_PATH, DATA_PATH\n",
    "from cbr.case_library import CaseLibrary, ConstraintsBuilder\n",
    "\n",
    "random.seed(10)"
   ],
   "metadata": {
    "collapsed": false,
    "pycharm": {
     "name": "#%%\n"
    }
   }
  },
  {
   "cell_type": "code",
   "execution_count": 3,
   "metadata": {
    "collapsed": false,
    "pycharm": {
     "name": "#%%\n"
    }
   },
   "outputs": [
    {
     "ename": "SyntaxError",
     "evalue": "invalid syntax (4098029073.py, line 3)",
     "output_type": "error",
     "traceback": [
      "\u001B[1;36m  Input \u001B[1;32mIn [3]\u001B[1;36m\u001B[0m\n\u001B[1;33m    Steps:\u001B[0m\n\u001B[1;37m          ^\u001B[0m\n\u001B[1;31mSyntaxError\u001B[0m\u001B[1;31m:\u001B[0m invalid syntax\n"
     ]
    }
   ],
   "source": [
    "import random\n",
    "import pickle\n",
    "\n",
    "# Own libraries\n",
    "from cbr import CBR\n",
    "from src.entity.query import Query\n",
    "from definitions import CASE_LIBRARY as CASE_LIBRARY_PATH, DATA_PATH\n",
    "from case_library import CaseLibrary, ConstraintsBuilder\n",
    "\n",
    "random.seed(10)"
   ]
  },
  {
   "cell_type": "code",
   "execution_count": null,
   "metadata": {
    "collapsed": false,
    "pycharm": {
     "name": "#%%\n"
    }
   },
   "outputs": [],
   "source": [
    "print(f\"The number of instances from the database {len(cocktails)}\")\n",
    "cocktails.head()"
   ]
  },
  {
   "cell_type": "code",
   "metadata": {
    "collapsed": false,
    "pycharm": {
     "name": "#%%\n"
    }
   },
   "source": [
    "query = Query()\n",
    "query.set_category(\"ordinary drink\")\n",
    "query.set_glass(\"old-fashioned glass\")\n",
    "query.set_ingredients([\"orange juice\"])\n",
    "query.set_exc_ingredients([\"rum\", \"grenadine\"])\n",
    "query.set_alc_types([\"gin\"])\n",
    "query.set_basic_tastes([\"salty\"])\n",
    "\n",
    "# TODO: retrieve 5 recipes similar to the query from the case library\n",
    "# Random recipes for now\n",
    "CASE_LIBRARY = CaseLibrary(CASE_LIBRARY_PATH)\n",
    "CONSTRAINT = ConstraintsBuilder(include_category=query.get_category(), include_glass=query.get_glass())\n",
    "recipes = random.choices(CASE_LIBRARY.findall(CONSTRAINT), k=5)\n",
    "print(\"Done\")"
   ],
   "execution_count": 2,
   "outputs": [
    {
     "name": "stdout",
     "output_type": "stream",
     "text": [
      "Done\n"
     ]
    }
   ]
  },
  {
   "cell_type": "code",
   "execution_count": 4,
   "metadata": {
    "pycharm": {
     "name": "#%%\n"
    }
   },
   "outputs": [],
   "source": [
    "query = Query()\n",
    "query.set_category(\"ordinary drink\")\n",
    "query.set_glass(\"old-fashioned glass\")\n",
    "query.set_ingredients([\"orange juice\"])\n",
    "query.set_exc_ingredients([\"rum\", \"grenadine\"])\n",
    "query.set_alc_types([\"gin\"])\n",
    "query.set_basic_tastes([\"salty\"])\n",
    "\n",
    "# TODO: retrieve 5 recipes similar to the query from the case library\n",
    "# Random recipes for now\n",
    "CASE_LIBRARY = CaseLibrary(CASE_LIBRARY_PATH)\n",
    "CONSTRAINT = ConstraintsBuilder(include_category=query.get_category(), include_glass=query.get_glass())\n",
    "recipes = random.choices(CASE_LIBRARY.findall(CONSTRAINT), k=5)"
   ]
  },
  {
   "cell_type": "code",
   "metadata": {
    "collapsed": false,
    "pycharm": {
     "name": "#%%\n"
    }
   },
   "source": [
    "print(f\"Ingredients before: {[e.text for e in recipes[0].ingredients.iterchildren()]}\")\n",
    "print(f\"Steps before: {[e.text for e in recipes[0].preparation.iterchildren()]}\")\n",
    "\n",
    "cbr = CBR()\n",
    "cbr.retrieve(query=query, recipes=recipes)\n",
    "cbr.adapt()\n",
    "output = cbr.recipe\n",
    "\n",
    "print(f\"Ingredients after: {[e.text for e in output.ingredients.iterchildren()]}\")\n",
    "print(f\"Steps after: {[e.text for e in output.preparation.iterchildren()]}\")"
   ],
   "execution_count": 3,
   "outputs": [
    {
     "name": "stdout",
     "output_type": "stream",
     "text": [
      "Ingredients before: ['151 proof rum', 'grenadine', 'kahlua']\n",
      "Steps before: ['mix ingr2 and ingr0 in glass', 'quickly add ice and pour ingr1 over ice to give ice red tint']\n",
      "Ingredients after: ['151 proof rum', 'orange juice', 'kahlua', 'gin', 'worcestershire sauce']\n",
      "Steps after: ['mix ingr2 and ingr0 in glass', 'add ingr4 to taste', 'add 2 oz of ingr3', 'quickly add ice and pour ingr1 over ice to give ice red tint']\n"
     ]
    }
   ]
  },
  {
   "cell_type": "code",
   "execution_count": null,
   "metadata": {
    "pycharm": {
     "name": "#%%\n"
    }
   },
   "outputs": [],
   "source": [
    "print(f\"Ingredients before: {[e.text for e in recipes[0].ingredients.iterchildren()]}\")\n",
    "print(f\"Steps before: {[e.text for e in recipes[0].preparation.iterchildren()]}\")\n",
    "\n",
    "cbr = CBR(query, recipes)\n",
    "cbr.adapt()\n",
    "output = cbr.recipe\n",
    "\n",
    "print(f\"Ingredients after: {[e.text for e in output.ingredients.iterchildren()]}\")\n",
    "print(f\"Steps after: {[e.text for e in output.preparation.iterchildren()]}\")"
   ]
  },
  {
   "cell_type": "markdown",
   "metadata": {
    "collapsed": false,
    "pycharm": {
     "name": "#%% md\n"
    }
   },
   "source": [
    "## EVAL"
   ]
  },
  {
   "cell_type": "code",
   "execution_count": null,
   "metadata": {
    "pycharm": {
     "name": "#%%\n"
    }
   },
   "outputs": [],
   "source": []
  },
  {
   "cell_type": "markdown",
   "metadata": {
    "collapsed": false,
    "pycharm": {
     "name": "#%% md\n"
    }
   },
   "source": [
    "## LEARN"
   ]
  },
  {
   "cell_type": "code",
   "execution_count": null,
   "metadata": {
    "pycharm": {
     "name": "#%%\n"
    }
   },
   "outputs": [],
   "source": []
  }
 ],
 "metadata": {
  "interpreter": {
   "hash": "ad2bdc8ecc057115af97d19610ffacc2b4e99fae6737bb82f5d7fb13d2f2c186"
  },
  "kernelspec": {
   "display_name": "Python 3.9.7 ('base')",
   "language": "python",
   "name": "python3"
  },
  "language_info": {
   "codemirror_mode": {
    "name": "ipython",
    "version": 3
   },
   "file_extension": ".py",
   "mimetype": "text/x-python",
   "name": "python",
   "nbconvert_exporter": "python",
   "pygments_lexer": "ipython3",
   "version": "3.9.7"
  },
  "orig_nbformat": 4,
  "vscode": {
   "interpreter": {
    "hash": "c6e4e9f98eb68ad3b7c296f83d20e6de614cb42e90992a65aa266555a3137d0d"
   }
  }
 },
 "nbformat": 4,
 "nbformat_minor": 2
}