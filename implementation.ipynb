{
 "cells": [
  {
   "cell_type": "code",
   "execution_count": 3,
   "outputs": [
    {
     "name": "stdout",
     "output_type": "stream",
     "text": [
      "Requirement already satisfied: lxml in c:\\users\\yazmina\\documents\\master ai\\sel\\coursework\\sel_pw3\\.venv\\lib\\site-packages (4.9.0)\n"
     ]
    },
    {
     "name": "stderr",
     "output_type": "stream",
     "text": [
      "WARNING: You are using pip version 21.3.1; however, version 22.1.2 is available.\n",
      "You should consider upgrading via the 'C:\\Users\\Yazmina\\Documents\\MASTER AI\\SEL\\Coursework\\SEL_PW3\\.venv\\Scripts\\python.exe -m pip install --upgrade pip' command.\n"
     ]
    }
   ],
   "source": [
    "!pip install lxml"
   ],
   "metadata": {
    "collapsed": false,
    "pycharm": {
     "name": "#%%\n"
    }
   }
  },
  {
   "cell_type": "code",
   "execution_count": 1,
   "outputs": [],
   "source": [
    "# Libraries that are used in the program\n",
    "import os\n",
    "os.chdir(os.path.join(\"src\", \"cbr\"))"
   ],
   "metadata": {
    "collapsed": false,
    "pycharm": {
     "name": "#%%\n"
    }
   }
  },
  {
   "cell_type": "code",
   "execution_count": 2,
   "outputs": [],
   "source": [
    "import random\n",
    "import pickle\n",
    "\n",
    "# Own libraries\n",
    "from cbr import CBR\n",
    "from definitions import CASE_LIBRARY as CASE_LIBRARY_PATH, DATA_PATH\n",
    "from case_library import CaseLibrary, ConstraintsBuilder\n",
    "\n",
    "random.seed(10)"
   ],
   "metadata": {
    "collapsed": false,
    "pycharm": {
     "name": "#%%\n"
    }
   }
  },
  {
   "cell_type": "markdown",
   "source": [
    "\n",
    "# CBR IMPLEMENTATION\n",
    "\n",
    "Steps:\n",
    "\n",
    "\n",
    "1. Retrive the data from the case Libray\n",
    "2. Retrieve the new case\n",
    "3. Compute the similarity between the new case and the existing cases\n",
    "4. Retrieve the existing case with the highest similarity\n",
    "6. Select the best case and rule\n",
    "7. Adapt the solution\n",
    "8. Update the database\n",
    "9. Evalute the solution\n",
    "10. If the solution is not good, repeat the process\n",
    "11. If the solution is good, stop the process and return the solution and save it in the case Library\n",
    "12. Retrieve the new case"
   ],
   "metadata": {
    "collapsed": false,
    "pycharm": {
     "name": "#%% md\n"
    }
   }
  },
  {
   "cell_type": "code",
   "execution_count": 3,
   "outputs": [],
   "source": [
    "# Pickle file containing the data\n",
    "path = os.path.join(DATA_PATH, \"processed-cocktails-data.pkl\")\n",
    "# Load the data <data>\n",
    "cocktails = pickle.load(open(path, \"rb\"))"
   ],
   "metadata": {
    "collapsed": false,
    "pycharm": {
     "name": "#%%\n"
    }
   }
  },
  {
   "cell_type": "code",
   "execution_count": 4,
   "outputs": [
    {
     "name": "stdout",
     "output_type": "stream",
     "text": [
      "The number of instances from the database 1781\n"
     ]
    },
    {
     "data": {
      "text/plain": "                                   Cocktail  Category                Glass  \\\nindex                                                                        \n0      '57 Chevy with a White License Plate  cocktail       highball glass   \n1      '57 Chevy with a White License Plate  cocktail       highball glass   \n2                            1-900-FUK-MEUP      shot  old-fashioned glass   \n3                            1-900-FUK-MEUP      shot  old-fashioned glass   \n4                            1-900-FUK-MEUP      shot  old-fashioned glass   \n\n                 Ingredient        Alc_type Basic_taste  \\\nindex                                                     \n0      creme de cacao white  creamy liqueur         NaN   \n1                     vodka           vodka         NaN   \n2             grand marnier      triple sec         NaN   \n3      midori melon liqueur   sweet liqueur         NaN   \n4                malibu rum             rum         NaN   \n\n                                                   Steps     Measure  \\\nindex                                                                  \n0      1. fill a rocks glass with ice 2.add white cre...  1 oz white   \n1      1. fill a rocks glass with ice 2.add white cre...        1 oz   \n2      shake ingredients in a mixing tin filled with ...      1/4 oz   \n3      shake ingredients in a mixing tin filled with ...      1/4 oz   \n4      shake ingredients in a mixing tin filled with ...      1/4 oz   \n\n       Value_ml  Value_gr  Garnish_amount Garnish_type  \nindex                                                   \n0          30.0       0.0             0.0          NaN  \n1          30.0       0.0             0.0          NaN  \n2           7.5       0.0             0.0          NaN  \n3           7.5       0.0             0.0          NaN  \n4           7.5       0.0             0.0          NaN  ",
      "text/html": "<div>\n<style scoped>\n    .dataframe tbody tr th:only-of-type {\n        vertical-align: middle;\n    }\n\n    .dataframe tbody tr th {\n        vertical-align: top;\n    }\n\n    .dataframe thead th {\n        text-align: right;\n    }\n</style>\n<table border=\"1\" class=\"dataframe\">\n  <thead>\n    <tr style=\"text-align: right;\">\n      <th></th>\n      <th>Cocktail</th>\n      <th>Category</th>\n      <th>Glass</th>\n      <th>Ingredient</th>\n      <th>Alc_type</th>\n      <th>Basic_taste</th>\n      <th>Steps</th>\n      <th>Measure</th>\n      <th>Value_ml</th>\n      <th>Value_gr</th>\n      <th>Garnish_amount</th>\n      <th>Garnish_type</th>\n    </tr>\n    <tr>\n      <th>index</th>\n      <th></th>\n      <th></th>\n      <th></th>\n      <th></th>\n      <th></th>\n      <th></th>\n      <th></th>\n      <th></th>\n      <th></th>\n      <th></th>\n      <th></th>\n      <th></th>\n    </tr>\n  </thead>\n  <tbody>\n    <tr>\n      <th>0</th>\n      <td>'57 Chevy with a White License Plate</td>\n      <td>cocktail</td>\n      <td>highball glass</td>\n      <td>creme de cacao white</td>\n      <td>creamy liqueur</td>\n      <td>NaN</td>\n      <td>1. fill a rocks glass with ice 2.add white cre...</td>\n      <td>1 oz white</td>\n      <td>30.0</td>\n      <td>0.0</td>\n      <td>0.0</td>\n      <td>NaN</td>\n    </tr>\n    <tr>\n      <th>1</th>\n      <td>'57 Chevy with a White License Plate</td>\n      <td>cocktail</td>\n      <td>highball glass</td>\n      <td>vodka</td>\n      <td>vodka</td>\n      <td>NaN</td>\n      <td>1. fill a rocks glass with ice 2.add white cre...</td>\n      <td>1 oz</td>\n      <td>30.0</td>\n      <td>0.0</td>\n      <td>0.0</td>\n      <td>NaN</td>\n    </tr>\n    <tr>\n      <th>2</th>\n      <td>1-900-FUK-MEUP</td>\n      <td>shot</td>\n      <td>old-fashioned glass</td>\n      <td>grand marnier</td>\n      <td>triple sec</td>\n      <td>NaN</td>\n      <td>shake ingredients in a mixing tin filled with ...</td>\n      <td>1/4 oz</td>\n      <td>7.5</td>\n      <td>0.0</td>\n      <td>0.0</td>\n      <td>NaN</td>\n    </tr>\n    <tr>\n      <th>3</th>\n      <td>1-900-FUK-MEUP</td>\n      <td>shot</td>\n      <td>old-fashioned glass</td>\n      <td>midori melon liqueur</td>\n      <td>sweet liqueur</td>\n      <td>NaN</td>\n      <td>shake ingredients in a mixing tin filled with ...</td>\n      <td>1/4 oz</td>\n      <td>7.5</td>\n      <td>0.0</td>\n      <td>0.0</td>\n      <td>NaN</td>\n    </tr>\n    <tr>\n      <th>4</th>\n      <td>1-900-FUK-MEUP</td>\n      <td>shot</td>\n      <td>old-fashioned glass</td>\n      <td>malibu rum</td>\n      <td>rum</td>\n      <td>NaN</td>\n      <td>shake ingredients in a mixing tin filled with ...</td>\n      <td>1/4 oz</td>\n      <td>7.5</td>\n      <td>0.0</td>\n      <td>0.0</td>\n      <td>NaN</td>\n    </tr>\n  </tbody>\n</table>\n</div>"
     },
     "execution_count": 4,
     "metadata": {},
     "output_type": "execute_result"
    }
   ],
   "source": [
    "print(f\"The number of instances from the database {len(cocktails)}\")\n",
    "cocktails.head()"
   ],
   "metadata": {
    "collapsed": false,
    "pycharm": {
     "name": "#%%\n"
    }
   }
  },
  {
   "cell_type": "markdown",
   "source": [
    "## RETRIEVE"
   ],
   "metadata": {
    "collapsed": false,
    "pycharm": {
     "name": "#%% md\n"
    }
   }
  },
  {
   "cell_type": "code",
   "execution_count": 7,
   "metadata": {
    "pycharm": {
     "name": "#%%\n"
    }
   },
   "outputs": [],
   "source": [
    "query = {\n",
    "    \"category\": \"ordinary drink\",\n",
    "    \"glass\": \"old-fashioned glass\",\n",
    "    \"alc_type\": [\"gin\"],\n",
    "    \"basic_taste\": [\"salty\"],\n",
    "    \"ingredients\": [\"orange juice\"],\n",
    "    \"exc_ingredients\": [\"rum\", \"grenadine\"],\n",
    "}\n",
    "# TODO: retrieve 5 recipes similar to the query from the case library\n",
    "# Random recipes for now\n",
    "CASE_LIBRARY = CaseLibrary(CASE_LIBRARY_PATH)\n",
    "CONSTRAINT = ConstraintsBuilder(include_category=query[\"category\"], include_glass=query[\"glass\"])\n",
    "recipes = random.choices(CASE_LIBRARY.findall(CONSTRAINT), k=5)"
   ]
  },
  {
   "cell_type": "markdown",
   "source": [
    "## ADAPT"
   ],
   "metadata": {
    "collapsed": false,
    "pycharm": {
     "name": "#%% md\n"
    }
   }
  },
  {
   "cell_type": "code",
   "execution_count": 9,
   "metadata": {
    "pycharm": {
     "name": "#%%\n"
    }
   },
   "outputs": [
    {
     "name": "stdout",
     "output_type": "stream",
     "text": [
      "Ingredients before: ['amaretto', 'lime']\n",
      "Steps before: ['pour ingr0 in an old-fashioned glass over crushed ice', 'add the wedge of ingr1 and serve', '(a wedge of lemon may be substituted for ingr1, if preferred.)']\n",
      "Ingredients after: ['amaretto', 'lime', 'orange juice', 'gin', 'salt']\n",
      "Steps after: ['pour ingr0 in an old-fashioned glass over crushed ice', 'add ingr4 to taste', 'add ingr3 to taste', 'add ingr2 to taste', 'add the wedge of ingr1 and serve', '(a wedge of lemon may be substituted for ingr1, if preferred.)']\n"
     ]
    }
   ],
   "source": [
    "print(f\"Ingredients before: {[e.text for e in recipes[0].findall('ingredients/ingredient')]}\")\n",
    "print(f\"Steps before: {[e.text for e in recipes[0].findall('preparation/step')]}\")\n",
    "cbr = CBR(query, recipes)\n",
    "cbr.adapt()\n",
    "output = cbr.recipe\n",
    "print(f\"Ingredients after: {[e.text for e in output.findall('ingredients/ingredient')]}\")\n",
    "print(f\"Steps after: {[e.text for e in output.findall('preparation/step')]}\")"
   ]
  },
  {
   "cell_type": "markdown",
   "source": [
    "## EVAL"
   ],
   "metadata": {
    "collapsed": false,
    "pycharm": {
     "name": "#%% md\n"
    }
   }
  },
  {
   "cell_type": "code",
   "execution_count": null,
   "metadata": {
    "pycharm": {
     "name": "#%%\n"
    }
   },
   "outputs": [],
   "source": []
  },
  {
   "cell_type": "markdown",
   "source": [
    "## LEARN"
   ],
   "metadata": {
    "collapsed": false,
    "pycharm": {
     "name": "#%% md\n"
    }
   }
  },
  {
   "cell_type": "code",
   "execution_count": null,
   "metadata": {
    "pycharm": {
     "name": "#%%\n"
    }
   },
   "outputs": [],
   "source": []
  }
 ],
 "metadata": {
  "kernelspec": {
   "name": "python3",
   "language": "python",
   "display_name": "Python 3 (ipykernel)"
  },
  "language_info": {
   "codemirror_mode": {
    "name": "ipython",
    "version": 3
   },
   "file_extension": ".py",
   "mimetype": "text/x-python",
   "name": "python",
   "nbconvert_exporter": "python",
   "pygments_lexer": "ipython3",
   "version": "3.9.10"
  },
  "orig_nbformat": 4,
  "vscode": {
   "interpreter": {
    "hash": "d85ff7802de2ee305506c9e6e106e7b6c06eeb33b066796d001873b0bf6739c4"
   }
  }
 },
 "nbformat": 4,
 "nbformat_minor": 2
}