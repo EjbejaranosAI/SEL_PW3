{
 "cells": [
  {
   "cell_type": "markdown",
   "metadata": {
    "pycharm": {
     "name": "#%% md\n"
    }
   },
   "source": [
    "\n",
    "# CBR IMPLEMENTATION \n",
    "\n",
    "Steps:\n",
    "\n",
    "\n",
    "1. Retrive the data from the case Libray\n",
    "2. Retrieve the new case\n",
    "3. Compute the similarity between the new case and the existing cases\n",
    "4. Retrieve the existing case with the highest similarity\n",
    "6. Select the best case and rule\n",
    "7. Adapt the solution\n",
    "8. Update the database\n",
    "9. Evalute the solution\n",
    "10. If the solution is not good, repeat the process\n",
    "11. If the solution is good, stop the process and return the solution and save it in the case Library\n",
    "12. Retrieve the new case"
   ]
  },
  {
   "cell_type": "code",
   "execution_count": null,
   "metadata": {
    "pycharm": {
     "name": "#%%\n"
    }
   },
   "outputs": [],
   "source": [
    "# Libraries that are used in the program\n",
    "import numpy as np\n",
    "import os\n",
    "import pickle\n",
    "# Own libraries\n",
    "\n"
   ]
  },
  {
   "cell_type": "code",
   "execution_count": 7,
   "metadata": {
    "pycharm": {
     "name": "#%%\n"
    }
   },
   "outputs": [],
   "source": [
    "# Pickle file containing the data\n",
    "path = \"./data/processed-cocktails-data.pkl\"\n",
    "# Load the data <data>\n",
    "cocktails = pickle.load(open(path, \"rb\"))"
   ]
  },
  {
   "cell_type": "code",
   "execution_count": 12,
   "metadata": {
    "pycharm": {
     "name": "#%%\n"
    }
   },
   "outputs": [
    {
     "name": "stdout",
     "output_type": "stream",
     "text": [
      "The number of instances from the database 1781\n"
     ]
    },
    {
     "data": {
      "text/html": [
       "<div>\n",
       "<style scoped>\n",
       "    .dataframe tbody tr th:only-of-type {\n",
       "        vertical-align: middle;\n",
       "    }\n",
       "\n",
       "    .dataframe tbody tr th {\n",
       "        vertical-align: top;\n",
       "    }\n",
       "\n",
       "    .dataframe thead th {\n",
       "        text-align: right;\n",
       "    }\n",
       "</style>\n",
       "<table border=\"1\" class=\"dataframe\">\n",
       "  <thead>\n",
       "    <tr style=\"text-align: right;\">\n",
       "      <th></th>\n",
       "      <th>Cocktail</th>\n",
       "      <th>Category</th>\n",
       "      <th>Glass</th>\n",
       "      <th>Ingredient</th>\n",
       "      <th>Alc_type</th>\n",
       "      <th>Basic_taste</th>\n",
       "      <th>Steps</th>\n",
       "      <th>Measure</th>\n",
       "      <th>Value_ml</th>\n",
       "      <th>Value_gr</th>\n",
       "      <th>Garnish_amount</th>\n",
       "      <th>Garnish_type</th>\n",
       "    </tr>\n",
       "    <tr>\n",
       "      <th>index</th>\n",
       "      <th></th>\n",
       "      <th></th>\n",
       "      <th></th>\n",
       "      <th></th>\n",
       "      <th></th>\n",
       "      <th></th>\n",
       "      <th></th>\n",
       "      <th></th>\n",
       "      <th></th>\n",
       "      <th></th>\n",
       "      <th></th>\n",
       "      <th></th>\n",
       "    </tr>\n",
       "  </thead>\n",
       "  <tbody>\n",
       "    <tr>\n",
       "      <th>0</th>\n",
       "      <td>'57 Chevy with a White License Plate</td>\n",
       "      <td>cocktail</td>\n",
       "      <td>highball glass</td>\n",
       "      <td>creme de cacao white</td>\n",
       "      <td>creamy liqueur</td>\n",
       "      <td>NaN</td>\n",
       "      <td>1. fill a rocks glass with ice 2.add white cre...</td>\n",
       "      <td>1 oz white</td>\n",
       "      <td>30.0</td>\n",
       "      <td>0.0</td>\n",
       "      <td>0.0</td>\n",
       "      <td>NaN</td>\n",
       "    </tr>\n",
       "    <tr>\n",
       "      <th>1</th>\n",
       "      <td>'57 Chevy with a White License Plate</td>\n",
       "      <td>cocktail</td>\n",
       "      <td>highball glass</td>\n",
       "      <td>vodka</td>\n",
       "      <td>vodka</td>\n",
       "      <td>NaN</td>\n",
       "      <td>1. fill a rocks glass with ice 2.add white cre...</td>\n",
       "      <td>1 oz</td>\n",
       "      <td>30.0</td>\n",
       "      <td>0.0</td>\n",
       "      <td>0.0</td>\n",
       "      <td>NaN</td>\n",
       "    </tr>\n",
       "    <tr>\n",
       "      <th>2</th>\n",
       "      <td>1-900-FUK-MEUP</td>\n",
       "      <td>shot</td>\n",
       "      <td>old-fashioned glass</td>\n",
       "      <td>grand marnier</td>\n",
       "      <td>triple sec</td>\n",
       "      <td>NaN</td>\n",
       "      <td>shake ingredients in a mixing tin filled with ...</td>\n",
       "      <td>1/4 oz</td>\n",
       "      <td>7.5</td>\n",
       "      <td>0.0</td>\n",
       "      <td>0.0</td>\n",
       "      <td>NaN</td>\n",
       "    </tr>\n",
       "    <tr>\n",
       "      <th>3</th>\n",
       "      <td>1-900-FUK-MEUP</td>\n",
       "      <td>shot</td>\n",
       "      <td>old-fashioned glass</td>\n",
       "      <td>midori melon liqueur</td>\n",
       "      <td>sweet liqueur</td>\n",
       "      <td>NaN</td>\n",
       "      <td>shake ingredients in a mixing tin filled with ...</td>\n",
       "      <td>1/4 oz</td>\n",
       "      <td>7.5</td>\n",
       "      <td>0.0</td>\n",
       "      <td>0.0</td>\n",
       "      <td>NaN</td>\n",
       "    </tr>\n",
       "    <tr>\n",
       "      <th>4</th>\n",
       "      <td>1-900-FUK-MEUP</td>\n",
       "      <td>shot</td>\n",
       "      <td>old-fashioned glass</td>\n",
       "      <td>malibu rum</td>\n",
       "      <td>rum</td>\n",
       "      <td>NaN</td>\n",
       "      <td>shake ingredients in a mixing tin filled with ...</td>\n",
       "      <td>1/4 oz</td>\n",
       "      <td>7.5</td>\n",
       "      <td>0.0</td>\n",
       "      <td>0.0</td>\n",
       "      <td>NaN</td>\n",
       "    </tr>\n",
       "  </tbody>\n",
       "</table>\n",
       "</div>"
      ],
      "text/plain": [
       "                                   Cocktail  Category                Glass  \\\n",
       "index                                                                        \n",
       "0      '57 Chevy with a White License Plate  cocktail       highball glass   \n",
       "1      '57 Chevy with a White License Plate  cocktail       highball glass   \n",
       "2                            1-900-FUK-MEUP      shot  old-fashioned glass   \n",
       "3                            1-900-FUK-MEUP      shot  old-fashioned glass   \n",
       "4                            1-900-FUK-MEUP      shot  old-fashioned glass   \n",
       "\n",
       "                 Ingredient        Alc_type Basic_taste  \\\n",
       "index                                                     \n",
       "0      creme de cacao white  creamy liqueur         NaN   \n",
       "1                     vodka           vodka         NaN   \n",
       "2             grand marnier      triple sec         NaN   \n",
       "3      midori melon liqueur   sweet liqueur         NaN   \n",
       "4                malibu rum             rum         NaN   \n",
       "\n",
       "                                                   Steps     Measure  \\\n",
       "index                                                                  \n",
       "0      1. fill a rocks glass with ice 2.add white cre...  1 oz white   \n",
       "1      1. fill a rocks glass with ice 2.add white cre...        1 oz   \n",
       "2      shake ingredients in a mixing tin filled with ...      1/4 oz   \n",
       "3      shake ingredients in a mixing tin filled with ...      1/4 oz   \n",
       "4      shake ingredients in a mixing tin filled with ...      1/4 oz   \n",
       "\n",
       "       Value_ml  Value_gr  Garnish_amount Garnish_type  \n",
       "index                                                   \n",
       "0          30.0       0.0             0.0          NaN  \n",
       "1          30.0       0.0             0.0          NaN  \n",
       "2           7.5       0.0             0.0          NaN  \n",
       "3           7.5       0.0             0.0          NaN  \n",
       "4           7.5       0.0             0.0          NaN  "
      ]
     },
     "execution_count": 12,
     "metadata": {},
     "output_type": "execute_result"
    }
   ],
   "source": [
    "print(f\"The number of instances from the database {len(cocktails)}\")\n",
    "cocktails.head()"
   ]
  },
  {
   "cell_type": "code",
   "execution_count": 1,
   "metadata": {
    "pycharm": {
     "name": "#%%\n"
    }
   },
   "outputs": [
    {
     "name": "stdout",
     "output_type": "stream",
     "text": [
      "Collecting lxml\n",
      "  Using cached lxml-4.9.0-cp39-cp39-macosx_11_0_arm64.whl\n",
      "Installing collected packages: lxml\n",
      "Successfully installed lxml-4.9.0\n"
     ]
    },
    {
     "ename": "ImportError",
     "evalue": "dlopen(/Users/edisonjairbejaranosepulveda/miniforge3/lib/python3.9/site-packages/lxml/etree.cpython-39-darwin.so, 0x0002): tried: '/Users/edisonjairbejaranosepulveda/miniforge3/lib/python3.9/site-packages/lxml/etree.cpython-39-darwin.so' (mach-o file, but is an incompatible architecture (have 'x86_64', need 'arm64e'))",
     "output_type": "error",
     "traceback": [
      "\u001B[0;31m---------------------------------------------------------------------------\u001B[0m",
      "\u001B[0;31mImportError\u001B[0m                               Traceback (most recent call last)",
      "\u001B[1;32m/Users/edisonjairbejaranosepulveda/Documents/AI_Master/Assigments/SEL_PW3/implementation.ipynb Cell 5'\u001B[0m in \u001B[0;36m<cell line: 3>\u001B[0;34m()\u001B[0m\n\u001B[1;32m      <a href='vscode-notebook-cell:/Users/edisonjairbejaranosepulveda/Documents/AI_Master/Assigments/SEL_PW3/implementation.ipynb#ch0000007?line=0'>1</a>\u001B[0m \u001B[39m# import from the own utils library the function to create the case l\u001B[39;00m\n\u001B[1;32m      <a href='vscode-notebook-cell:/Users/edisonjairbejaranosepulveda/Documents/AI_Master/Assigments/SEL_PW3/implementation.ipynb#ch0000007?line=1'>2</a>\u001B[0m get_ipython()\u001B[39m.\u001B[39msystem(\u001B[39m'\u001B[39m\u001B[39mpip install lxml\u001B[39m\u001B[39m'\u001B[39m)\n\u001B[0;32m----> <a href='vscode-notebook-cell:/Users/edisonjairbejaranosepulveda/Documents/AI_Master/Assigments/SEL_PW3/implementation.ipynb#ch0000007?line=2'>3</a>\u001B[0m \u001B[39mfrom\u001B[39;00m \u001B[39msrc\u001B[39;00m \u001B[39mimport\u001B[39;00m create_case_library\n",
      "File \u001B[0;32m~/Documents/AI_Master/Assigments/SEL_PW3/src/create_case_library.py:6\u001B[0m, in \u001B[0;36m<module>\u001B[0;34m\u001B[0m\n\u001B[1;32m      <a href='file:///Users/edisonjairbejaranosepulveda/Documents/AI_Master/Assigments/SEL_PW3/src/create_case_library.py?line=2'>3</a>\u001B[0m \u001B[39mfrom\u001B[39;00m \u001B[39mitertools\u001B[39;00m \u001B[39mimport\u001B[39;00m permutations\n\u001B[1;32m      <a href='file:///Users/edisonjairbejaranosepulveda/Documents/AI_Master/Assigments/SEL_PW3/src/create_case_library.py?line=4'>5</a>\u001B[0m \u001B[39mimport\u001B[39;00m \u001B[39mpandas\u001B[39;00m \u001B[39mas\u001B[39;00m \u001B[39mpd\u001B[39;00m\n\u001B[0;32m----> <a href='file:///Users/edisonjairbejaranosepulveda/Documents/AI_Master/Assigments/SEL_PW3/src/create_case_library.py?line=5'>6</a>\u001B[0m \u001B[39mfrom\u001B[39;00m \u001B[39mlxml\u001B[39;00m \u001B[39mimport\u001B[39;00m etree\n\u001B[1;32m      <a href='file:///Users/edisonjairbejaranosepulveda/Documents/AI_Master/Assigments/SEL_PW3/src/create_case_library.py?line=6'>7</a>\u001B[0m \u001B[39mfrom\u001B[39;00m \u001B[39mlxml\u001B[39;00m\u001B[39m.\u001B[39;00m\u001B[39metree\u001B[39;00m \u001B[39mimport\u001B[39;00m SubElement\n\u001B[1;32m      <a href='file:///Users/edisonjairbejaranosepulveda/Documents/AI_Master/Assigments/SEL_PW3/src/create_case_library.py?line=7'>8</a>\u001B[0m \u001B[39mfrom\u001B[39;00m \u001B[39mpandas\u001B[39;00m \u001B[39mimport\u001B[39;00m DataFrame\n",
      "\u001B[0;31mImportError\u001B[0m: dlopen(/Users/edisonjairbejaranosepulveda/miniforge3/lib/python3.9/site-packages/lxml/etree.cpython-39-darwin.so, 0x0002): tried: '/Users/edisonjairbejaranosepulveda/miniforge3/lib/python3.9/site-packages/lxml/etree.cpython-39-darwin.so' (mach-o file, but is an incompatible architecture (have 'x86_64', need 'arm64e'))"
     ]
    }
   ],
   "source": [
    "# import from the own utils library the function to create the case l\n",
    "!pip install lxml\n",
    "from src import create_case_library"
   ]
  },
  {
   "cell_type": "code",
   "execution_count": 4,
   "metadata": {
    "pycharm": {
     "name": "#%%\n"
    }
   },
   "outputs": [
    {
     "name": "stdout",
     "output_type": "stream",
     "text": [
      "[<Element cocktail at 0x2b8dcc19f80>, <Element cocktail at 0x2b8fc2c3480>, <Element cocktail at 0x2b8fc2c3a00>]\n",
      "<cocktail>\n",
      "  <name>Downshift</name>\n",
      "  <category>punch / party drink</category>\n",
      "  <glass>hurricane glass</glass>\n",
      "  <ingredients>\n",
      "    <ingredient id=\"ingr0\" alc_type=\"tequila\" basic_taste=\"\" measure=\"2 shots\" quantity=\"50.0\" unit=\"ml\" garnish_type=\"\">tequila</ingredient>\n",
      "    <ingredient id=\"ingr1\" alc_type=\"\" basic_taste=\"sweet\" measure=\"1 part\" quantity=\"30.0\" unit=\"ml\" garnish_type=\"\">sprite</ingredient>\n",
      "    <ingredient id=\"ingr2\" alc_type=\"rum\" basic_taste=\"\" measure=\"float bacardi\" quantity=\"0.0\" unit=\"\" garnish_type=\"nan\">151 proof rum</ingredient>\n",
      "    <ingredient id=\"ingr3\" alc_type=\"\" basic_taste=\"sweet\" measure=\"2 part\" quantity=\"60.0\" unit=\"ml\" garnish_type=\"\">fruit punch</ingredient>\n",
      "  </ingredients>\n",
      "  <preparation>\n",
      "    <step>start with the ingr1</step>\n",
      "    <step>next comes the ingr0</step>\n",
      "    <step>after that, add the minute maid ingr3, then float the ingr2</step>\n",
      "    <step>rocks optional</step>\n",
      "  </preparation>\n",
      "  <utility>1.0</utility>\n",
      "  <derivation>Original</derivation>\n",
      "  <evaluation>Success</evaluation>\n",
      "</cocktail>\n"
     ]
    }
   ],
   "source": [
    "from lxml import etree\n",
    "from src.cbr.case_library import ConstraintsBuilder, CaseLibrary\n",
    "\n",
    "case_library = CaseLibrary()\n",
    "builder = ConstraintsBuilder()\n",
    "builder.filter_category().filter_glass(include=\"hurricane glass\").filter_alc_type(\n",
    "include=[\"rum\"]\n",
    ").filter_taste(include=\"sweet\")\n",
    "\n",
    "cocktails = case_library.findall(builder)\n",
    "print(cocktails)\n",
    "etree.dump(cocktails[0])\n",
    "\n",
    "\n",
    "\n"
   ]
  },
  {
   "cell_type": "code",
   "execution_count": null,
   "metadata": {
    "pycharm": {
     "name": "#%%\n"
    }
   },
   "outputs": [],
   "source": []
  },
  {
   "cell_type": "code",
   "execution_count": null,
   "metadata": {
    "pycharm": {
     "name": "#%%\n"
    }
   },
   "outputs": [],
   "source": []
  },
  {
   "cell_type": "code",
   "execution_count": null,
   "metadata": {
    "pycharm": {
     "name": "#%%\n"
    }
   },
   "outputs": [],
   "source": []
  }
 ],
 "metadata": {
  "kernelspec": {
   "display_name": "Python 3.9.10",
   "language": "python",
   "name": "python3"
  },
  "language_info": {
   "codemirror_mode": {
    "name": "ipython",
    "version": 3
   },
   "file_extension": ".py",
   "mimetype": "text/x-python",
   "name": "python",
   "nbconvert_exporter": "python",
   "pygments_lexer": "ipython3",
   "version": "3.9.10"
  },
  "orig_nbformat": 4,
  "vscode": {
   "interpreter": {
    "hash": "d85ff7802de2ee305506c9e6e106e7b6c06eeb33b066796d001873b0bf6739c4"
   }
  }
 },
 "nbformat": 4,
 "nbformat_minor": 2
}