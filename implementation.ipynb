{
 "cells": [
  {
   "cell_type": "markdown",
   "metadata": {},
   "source": [
    "\n",
    "# CBR IMPLEMENTATION \n",
    "\n",
    "Steps:\n",
    "\n",
    "\n",
    "1. Retrive the data from the case Libray\n",
    "2. Retrieve the new case\n",
    "3. Compute the similarity between the new case and the existing cases\n",
    "4. Retrieve the existing case with the highest similarity\n",
    "6. Select the best case and rule\n",
    "7. Adapt the solution\n",
    "8. Update the database\n",
    "9. Evalute the solution\n",
    "10. If the solution is not good, repeat the process\n",
    "11. If the solution is good, stop the process and return the solution and save it in the case Library\n",
    "12. Retrieve the new case"
   ]
  },
  {
   "cell_type": "code",
   "execution_count": null,
   "metadata": {},
   "outputs": [],
   "source": [
    "# use the create_case_library function to create a library of cases\n",
    "\n"
   ]
  }
 ],
 "metadata": {
  "language_info": {
   "name": "python"
  },
  "orig_nbformat": 4
 },
 "nbformat": 4,
 "nbformat_minor": 2
}
