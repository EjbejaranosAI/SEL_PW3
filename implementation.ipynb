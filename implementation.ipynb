{
 "cells": [
  {
   "cell_type": "code",
   "execution_count": 1,
   "metadata": {
    "collapsed": false,
    "pycharm": {
     "name": "#%%\n"
    }
   },
   "outputs": [
    {
     "name": "stdout",
     "output_type": "stream",
     "text": [
      "Requirement already satisfied: lxml in c:\\users\\yazmina\\documents\\master ai\\sel\\coursework\\sel_pw3\\.venv\\lib\\site-packages (4.9.0)\n"
     ]
    },
    {
     "name": "stderr",
     "output_type": "stream",
     "text": [
      "WARNING: You are using pip version 21.3.1; however, version 22.1.2 is available.\n",
      "You should consider upgrading via the 'C:\\Users\\Yazmina\\Documents\\MASTER AI\\SEL\\Coursework\\SEL_PW3\\.venv\\Scripts\\python.exe -m pip install --upgrade pip' command.\n"
     ]
    }
   ],
   "source": [
    "!pip install lxml"
   ]
  },
  {
   "cell_type": "code",
   "execution_count": 2,
   "outputs": [],
   "source": [
    "from lxml import etree"
   ],
   "metadata": {
    "collapsed": false,
    "pycharm": {
     "name": "#%%\n"
    }
   }
  },
  {
   "cell_type": "code",
   "execution_count": 3,
   "outputs": [],
   "source": [
    "# Libraries that are used in the program\n",
    "import os\n",
    "os.chdir(os.path.join(\"src\", \"cbr\"))"
   ],
   "metadata": {
    "collapsed": false,
    "pycharm": {
     "name": "#%%\n"
    }
   }
  },
  {
   "cell_type": "code",
   "execution_count": 4,
   "outputs": [],
   "source": [
    "import random\n",
    "import pickle\n",
    "\n",
    "# Own libraries\n",
    "from cbr import CBR\n",
    "from src.entity.query import Query\n",
    "from definitions import CASE_LIBRARY as CASE_LIBRARY_PATH, DATA_PATH\n",
    "from case_library import CaseLibrary, ConstraintsBuilder\n",
    "\n",
    "random.seed(10)"
   ],
   "metadata": {
    "collapsed": false,
    "pycharm": {
     "name": "#%%\n"
    }
   }
  },
  {
   "cell_type": "code",
   "execution_count": 5,
   "metadata": {
    "collapsed": false,
    "pycharm": {
     "name": "#%%\n"
    }
   },
   "outputs": [
    {
     "ename": "SyntaxError",
     "evalue": "invalid syntax (4098029073.py, line 3)",
     "output_type": "error",
     "traceback": [
      "\u001B[1;36m  Input \u001B[1;32mIn [5]\u001B[1;36m\u001B[0m\n\u001B[1;33m    Steps:\u001B[0m\n\u001B[1;37m          ^\u001B[0m\n\u001B[1;31mSyntaxError\u001B[0m\u001B[1;31m:\u001B[0m invalid syntax\n"
     ]
    }
   ],
   "source": [
    "import random\n",
    "import pickle\n",
    "\n",
    "# Own libraries\n",
    "from cbr import CBR\n",
    "from src.entity.query import Query\n",
    "from definitions import CASE_LIBRARY as CASE_LIBRARY_PATH, DATA_PATH\n",
    "from case_library import CaseLibrary, ConstraintsBuilder\n",
    "\n",
    "random.seed(10)"
   ]
  },
  {
   "cell_type": "markdown",
   "metadata": {
    "collapsed": false,
    "pycharm": {
     "name": "#%% md\n"
    }
   },
   "source": [
    "\n",
    "# CBR IMPLEMENTATION\n",
    "\n",
    "Steps:\n",
    "\n",
    "\n",
    "1. Retrive the data from the case Libray\n",
    "2. Retrieve the new case\n",
    "3. Compute the similarity between the new case and the existing cases\n",
    "4. Retrieve the existing case with the highest similarity\n",
    "6. Select the best case and rule\n",
    "7. Adapt the solution\n",
    "8. Update the database\n",
    "9. Evalute the solution\n",
    "10. If the solution is not good, repeat the process\n",
    "11. If the solution is good, stop the process and return the solution and save it in the case Library\n",
    "12. Retrieve the new case"
   ]
  },
  {
   "cell_type": "code",
   "execution_count": null,
   "metadata": {
    "collapsed": false,
    "pycharm": {
     "name": "#%%\n"
    }
   },
   "outputs": [],
   "source": [
    "# Pickle file containing the data\n",
    "path = os.path.join(DATA_PATH, \"processed-cocktails-data.pkl\")\n",
    "# Load the data <data>\n",
    "cocktails = pickle.load(open(path, \"rb\"))"
   ]
  },
  {
   "cell_type": "code",
   "execution_count": null,
   "metadata": {
    "collapsed": false,
    "pycharm": {
     "name": "#%%\n"
    }
   },
   "outputs": [],
   "source": [
    "print(f\"The number of instances from the database {len(cocktails)}\")\n",
    "cocktails.head()"
   ]
  },
  {
   "cell_type": "markdown",
   "metadata": {
    "collapsed": false,
    "pycharm": {
     "name": "#%% md\n"
    }
   },
   "source": [
    "## RETRIEVE"
   ]
  },
  {
   "cell_type": "code",
   "execution_count": null,
   "metadata": {
    "pycharm": {
     "name": "#%%\n"
    }
   },
   "outputs": [],
   "source": [
    "query = Query()\n",
    "query.set_category(\"ordinary drink\")\n",
    "query.set_glass(\"old-fashioned glass\")\n",
    "query.set_ingredients([\"orange juice\"])\n",
    "query.set_exc_ingredients([\"rum\", \"grenadine\"])\n",
    "query.set_alc_types([\"gin\"])\n",
    "query.set_basic_tastes([\"salty\"])\n",
    "\n",
    "# TODO: retrieve 5 recipes similar to the query from the case library\n",
    "# Random recipes for now\n",
    "CASE_LIBRARY = CaseLibrary(CASE_LIBRARY_PATH)\n",
    "CONSTRAINT = ConstraintsBuilder(include_category=query.get_category(), include_glass=query.get_glass())\n",
    "recipes = random.choices(CASE_LIBRARY.findall(CONSTRAINT), k=5)"
   ]
  },
  {
   "cell_type": "code",
   "metadata": {
    "collapsed": false,
    "pycharm": {
     "name": "#%%\n"
    }
   },
   "source": [
    "print(f\"Ingredients before: {[e.text for e in recipes[0].ingredients.iterchildren()]}\")\n",
    "print(f\"Steps before: {[e.text for e in recipes[0].preparation.iterchildren()]}\")\n",
    "\n",
    "cbr = CBR()\n",
    "cbr.retrieve(query=query, recipes=recipes)\n",
    "cbr.adapt()\n",
    "output = cbr.recipe\n",
    "\n",
    "print(f\"Ingredients after: {[e.text for e in output.ingredients.iterchildren()]}\")\n",
    "print(f\"Steps after: {[e.text for e in output.preparation.iterchildren()]}\")"
   ],
   "execution_count": null,
   "outputs": []
  },
  {
   "cell_type": "code",
   "execution_count": null,
   "metadata": {
    "pycharm": {
     "name": "#%%\n"
    }
   },
   "outputs": [],
   "source": [
    "print(f\"Ingredients before: {[e.text for e in recipes[0].ingredients.iterchildren()]}\")\n",
    "print(f\"Steps before: {[e.text for e in recipes[0].preparation.iterchildren()]}\")\n",
    "\n",
    "cbr = CBR(query, recipes)\n",
    "cbr.adapt()\n",
    "output = cbr.recipe\n",
    "\n",
    "print(f\"Ingredients after: {[e.text for e in output.ingredients.iterchildren()]}\")\n",
    "print(f\"Steps after: {[e.text for e in output.preparation.iterchildren()]}\")"
   ]
  },
  {
   "cell_type": "markdown",
   "metadata": {
    "collapsed": false,
    "pycharm": {
     "name": "#%% md\n"
    }
   },
   "source": [
    "## EVAL"
   ]
  },
  {
   "cell_type": "code",
   "execution_count": null,
   "metadata": {
    "pycharm": {
     "name": "#%%\n"
    }
   },
   "outputs": [],
   "source": []
  },
  {
   "cell_type": "markdown",
   "metadata": {
    "collapsed": false,
    "pycharm": {
     "name": "#%% md\n"
    }
   },
   "source": [
    "## LEARN"
   ]
  },
  {
   "cell_type": "code",
   "execution_count": null,
   "metadata": {
    "pycharm": {
     "name": "#%%\n"
    }
   },
   "outputs": [],
   "source": []
  }
 ],
 "metadata": {
  "interpreter": {
   "hash": "ad2bdc8ecc057115af97d19610ffacc2b4e99fae6737bb82f5d7fb13d2f2c186"
  },
  "kernelspec": {
   "display_name": "Python 3.9.7 ('base')",
   "language": "python",
   "name": "python3"
  },
  "language_info": {
   "codemirror_mode": {
    "name": "ipython",
    "version": 3
   },
   "file_extension": ".py",
   "mimetype": "text/x-python",
   "name": "python",
   "nbconvert_exporter": "python",
   "pygments_lexer": "ipython3",
   "version": "3.9.7"
  },
  "orig_nbformat": 4,
  "vscode": {
   "interpreter": {
    "hash": "c6e4e9f98eb68ad3b7c296f83d20e6de614cb42e90992a65aa266555a3137d0d"
   }
  }
 },
 "nbformat": 4,
 "nbformat_minor": 2
}