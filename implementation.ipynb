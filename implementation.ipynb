{
 "cells": [
  {
   "cell_type": "markdown",
   "metadata": {
    "pycharm": {
     "name": "#%% md\n"
    }
   },
   "source": [
    "\n",
    "# CBR IMPLEMENTATION \n",
    "\n",
    "Steps:\n",
    "\n",
    "\n",
    "1. Retrive the data from the case Libray\n",
    "2. Retrieve the new case\n",
    "3. Compute the similarity between the new case and the existing cases\n",
    "4. Retrieve the existing case with the highest similarity\n",
    "6. Select the best case and rule\n",
    "7. Adapt the solution\n",
    "8. Update the database\n",
    "9. Evalute the solution\n",
    "10. If the solution is not good, repeat the process\n",
    "11. If the solution is good, stop the process and return the solution and save it in the case Library\n",
    "12. Retrieve the new case"
   ]
  },
  {
   "cell_type": "code",
   "execution_count": null,
   "outputs": [],
   "source": [
    "# Libraries that are used in the program\n",
    "import numpy as np\n",
    "import os\n",
    "import pickle\n",
    "\n",
    "# Own libraries"
   ],
   "metadata": {
    "collapsed": false,
    "pycharm": {
     "name": "#%%\n"
    }
   }
  },
  {
   "cell_type": "code",
   "execution_count": null,
   "outputs": [],
   "source": [
    "# Pickle file containing the data\n",
    "path = \"./data/processed-cocktails-data.pkl\"\n",
    "# Load the data <data>\n",
    "cocktails = pickle.load(open(path, \"rb\"))"
   ],
   "metadata": {
    "collapsed": false,
    "pycharm": {
     "name": "#%%\n"
    }
   }
  },
  {
   "cell_type": "code",
   "execution_count": null,
   "outputs": [],
   "source": [
    "print(f\"The number of instances from the database {len(cocktails)}\")\n",
    "cocktails.head()"
   ],
   "metadata": {
    "collapsed": false,
    "pycharm": {
     "name": "#%%\n"
    }
   }
  },
  {
   "cell_type": "code",
   "execution_count": null,
   "outputs": [],
   "source": [
    "# import from the own utils library the function to create the case l\n",
    "!pip install lxml\n",
    "from src import create_case_library"
   ],
   "metadata": {
    "collapsed": false,
    "pycharm": {
     "name": "#%%\n"
    }
   }
  },
  {
   "cell_type": "code",
   "execution_count": null,
   "outputs": [],
   "source": [
    "from definitions import CASE_LIBRARY\n",
    "from lxml import etree\n",
    "from src.cbr.case_library import ConstraintsBuilder, CaseLibrary\n",
    "\n",
    "case_library = CaseLibrary(CASE_LIBRARY)\n",
    "builder = ConstraintsBuilder()\n",
    "builder.filter_category().filter_glass(include=\"hurricane glass\").filter_alc_type(include=[\"rum\"]).filter_taste(\n",
    "    include=\"sweet\"\n",
    ")\n",
    "\n",
    "cocktails = case_library.findall(builder)\n",
    "print(cocktails)\n",
    "etree.dump(cocktails[0])"
   ],
   "metadata": {
    "collapsed": false,
    "pycharm": {
     "name": "#%%\n"
    }
   }
  },
  {
   "cell_type": "code",
   "execution_count": null,
   "metadata": {
    "pycharm": {
     "name": "#%%\n"
    }
   },
   "outputs": [],
   "source": []
  },
  {
   "cell_type": "code",
   "execution_count": null,
   "metadata": {
    "pycharm": {
     "name": "#%%\n"
    }
   },
   "outputs": [],
   "source": []
  },
  {
   "cell_type": "code",
   "execution_count": null,
   "metadata": {
    "pycharm": {
     "name": "#%%\n"
    }
   },
   "outputs": [],
   "source": []
  }
 ],
 "metadata": {
  "kernelspec": {
   "display_name": "Python 3.9.10",
   "language": "python",
   "name": "python3"
  },
  "language_info": {
   "codemirror_mode": {
    "name": "ipython",
    "version": 3
   },
   "file_extension": ".py",
   "mimetype": "text/x-python",
   "name": "python",
   "nbconvert_exporter": "python",
   "pygments_lexer": "ipython3",
   "version": "3.9.10"
  },
  "orig_nbformat": 4,
  "vscode": {
   "interpreter": {
    "hash": "d85ff7802de2ee305506c9e6e106e7b6c06eeb33b066796d001873b0bf6739c4"
   }
  }
 },
 "nbformat": 4,
 "nbformat_minor": 2
}