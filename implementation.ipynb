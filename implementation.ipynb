{
 "cells": [
  {
   "cell_type": "code",
   "execution_count": 9,
   "metadata": {
    "collapsed": false,
    "pycharm": {
     "name": "#%%\n"
    }
   },
   "outputs": [
    {
     "name": "stdout",
     "output_type": "stream",
     "text": [
      "Requirement already satisfied: lxml in c:\\users\\santi\\appdata\\local\\pypoetry\\cache\\virtualenvs\\sel-pw3-8mvdaj5j-py3.9\\lib\\site-packages (4.9.0)\n"
     ]
    },
    {
     "name": "stderr",
     "output_type": "stream",
     "text": [
      "WARNING: You are using pip version 21.2.4; however, version 22.1.2 is available.\n",
      "You should consider upgrading via the 'C:\\Users\\santi\\AppData\\Local\\pypoetry\\Cache\\virtualenvs\\sel-pw3-8mVDaJ5J-py3.9\\Scripts\\python.exe -m pip install --upgrade pip' command.\n"
     ]
    }
   ],
   "source": [
    "!pip install lxml"
   ]
  },
  {
   "cell_type": "code",
   "execution_count": 10,
   "outputs": [],
   "source": [
    "import random\n",
    "\n",
    "# Own libraries\n",
    "from src.cbr.cbr import CBR\n",
    "from src.entity.query import Query\n",
    "from definitions import CASE_LIBRARY as CASE_LIBRARY_PATH\n",
    "from src.cbr.case_library import CaseLibrary, ConstraintsBuilder\n",
    "\n",
    "random.seed(10)"
   ],
   "metadata": {
    "collapsed": false,
    "pycharm": {
     "name": "#%%\n"
    }
   }
  },
  {
   "cell_type": "code",
   "execution_count": 11,
   "outputs": [
    {
     "name": "stdout",
     "output_type": "stream",
     "text": [
      "Done\n"
     ]
    }
   ],
   "source": [
    "query = Query()\n",
    "query.set_category(\"ordinary drink\")\n",
    "query.set_glass(\"old-fashioned glass\")\n",
    "query.set_ingredients([\"orange juice\"])\n",
    "query.set_exc_ingredients([\"rum\", \"grenadine\"])\n",
    "query.set_alc_types([\"gin\"])\n",
    "query.set_basic_tastes([\"salty\"])\n",
    "\n",
    "# TODO: retrieve 5 recipes similar to the query from the case library\n",
    "# Random recipes for now\n",
    "CASE_LIBRARY = CaseLibrary(CASE_LIBRARY_PATH)\n",
    "CONSTRAINT = ConstraintsBuilder(include_category=query.get_category(), include_glass=query.get_glass())\n",
    "recipes = random.choices(CASE_LIBRARY.findall(CONSTRAINT), k=5)\n",
    "print(\"Done\")"
   ],
   "metadata": {
    "collapsed": false,
    "pycharm": {
     "name": "#%%\n"
    }
   }
  },
  {
   "cell_type": "code",
   "execution_count": 12,
   "outputs": [],
   "source": [
    "query = Query()\n",
    "query.set_category(\"ordinary drink\")\n",
    "query.set_glass(\"old-fashioned glass\")\n",
    "query.set_ingredients([\"orange juice\"])\n",
    "query.set_exc_ingredients([\"rum\", \"grenadine\"])\n",
    "query.set_alc_types([\"gin\"])\n",
    "query.set_basic_tastes([\"salty\"])\n",
    "\n",
    "# TODO: retrieve 5 recipes similar to the query from the case library\n",
    "# Random recipes for now\n",
    "CASE_LIBRARY = CaseLibrary(CASE_LIBRARY_PATH)\n",
    "CONSTRAINT = ConstraintsBuilder(include_category=query.get_category(), include_glass=query.get_glass())\n",
    "recipes = random.choices(CASE_LIBRARY.findall(CONSTRAINT), k=5)"
   ],
   "metadata": {
    "collapsed": false,
    "pycharm": {
     "name": "#%%\n"
    }
   }
  },
  {
   "cell_type": "code",
   "execution_count": 13,
   "outputs": [
    {
     "name": "stdout",
     "output_type": "stream",
     "text": [
      "Ingredients before: ['soda water', 'prosecco', 'campari']\n",
      "Steps before: ['build into glass over ice, garnish and serve']\n",
      "Ingredients after: ['soda water', 'prosecco', 'campari', 'orange juice', 'gin', 'worcestershire sauce']\n",
      "Steps after: ['build into glass over ice, garnish and serve', 'add 1/2 tsp of ingr5', 'add 1 oz of ingr4', 'add ingr3 to taste']\n"
     ]
    }
   ],
   "source": [
    "print(f\"Ingredients before: {[e.text for e in recipes[0].ingredients.iterchildren()]}\")\n",
    "print(f\"Steps before: {[e.text for e in recipes[0].preparation.iterchildren()]}\")\n",
    "\n",
    "cbr = CBR()\n",
    "cbr.retrieve(query=query, recipes=recipes)\n",
    "cbr.adapt()\n",
    "output = cbr.recipe\n",
    "\n",
    "print(f\"Ingredients after: {[e.text for e in output.ingredients.iterchildren()]}\")\n",
    "print(f\"Steps after: {[e.text for e in output.preparation.iterchildren()]}\")"
   ],
   "metadata": {
    "collapsed": false,
    "pycharm": {
     "name": "#%%\n"
    }
   }
  },
  {
   "cell_type": "code",
   "execution_count": null,
   "metadata": {
    "pycharm": {
     "name": "#%%\n"
    }
   },
   "outputs": [],
   "source": []
  }
 ],
 "metadata": {
  "interpreter": {
   "hash": "ad2bdc8ecc057115af97d19610ffacc2b4e99fae6737bb82f5d7fb13d2f2c186"
  },
  "kernelspec": {
   "display_name": "Python 3.9.7 ('base')",
   "language": "python",
   "name": "python3"
  },
  "language_info": {
   "codemirror_mode": {
    "name": "ipython",
    "version": 3
   },
   "file_extension": ".py",
   "mimetype": "text/x-python",
   "name": "python",
   "nbconvert_exporter": "python",
   "pygments_lexer": "ipython3",
   "version": "3.9.7"
  },
  "orig_nbformat": 4,
  "vscode": {
   "interpreter": {
    "hash": "c6e4e9f98eb68ad3b7c296f83d20e6de614cb42e90992a65aa266555a3137d0d"
   }
  }
 },
 "nbformat": 4,
 "nbformat_minor": 2
}