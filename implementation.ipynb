{
 "cells": [
  {
   "cell_type": "code",
   "execution_count": 1,
   "metadata": {
    "collapsed": false,
    "pycharm": {
     "name": "#%%\n"
    }
   },
   "outputs": [
    {
     "name": "stdout",
     "output_type": "stream",
     "text": [
      "Requirement already satisfied: lxml in /opt/homebrew/Caskroom/miniforge/base/lib/python3.9/site-packages (4.8.0)\n"
     ]
    }
   ],
   "source": [
    "!pip install lxml"
   ]
  },
  {
   "cell_type": "code",
   "execution_count": 4,
   "metadata": {},
   "outputs": [
    {
     "ename": "ImportError",
     "evalue": "dlopen(/opt/homebrew/Caskroom/miniforge/base/lib/python3.9/site-packages/lxml/etree.cpython-39-darwin.so, 0x0002): tried: '/opt/homebrew/Caskroom/miniforge/base/lib/python3.9/site-packages/lxml/etree.cpython-39-darwin.so' (mach-o file, but is an incompatible architecture (have 'x86_64', need 'arm64e'))",
     "output_type": "error",
     "traceback": [
      "\u001b[0;31m---------------------------------------------------------------------------\u001b[0m",
      "\u001b[0;31mImportError\u001b[0m                               Traceback (most recent call last)",
      "\u001b[1;32m/Users/edisonjairbejaranosepulveda/Documents/AI_Master/Assigments/SEL_PW3/implementation.ipynb Cell 2'\u001b[0m in \u001b[0;36m<cell line: 1>\u001b[0;34m()\u001b[0m\n\u001b[0;32m----> <a href='vscode-notebook-cell:/Users/edisonjairbejaranosepulveda/Documents/AI_Master/Assigments/SEL_PW3/implementation.ipynb#ch0000014?line=0'>1</a>\u001b[0m \u001b[39mfrom\u001b[39;00m \u001b[39mlxml\u001b[39;00m \u001b[39mimport\u001b[39;00m etree\n",
      "\u001b[0;31mImportError\u001b[0m: dlopen(/opt/homebrew/Caskroom/miniforge/base/lib/python3.9/site-packages/lxml/etree.cpython-39-darwin.so, 0x0002): tried: '/opt/homebrew/Caskroom/miniforge/base/lib/python3.9/site-packages/lxml/etree.cpython-39-darwin.so' (mach-o file, but is an incompatible architecture (have 'x86_64', need 'arm64e'))"
     ]
    }
   ],
   "source": [
    "from lxml import etree"
   ]
  },
  {
   "cell_type": "code",
   "execution_count": 2,
   "metadata": {
    "collapsed": false,
    "pycharm": {
     "name": "#%%\n"
    }
   },
   "outputs": [],
   "source": [
    "# Libraries that are used in the program\n",
    "import os\n",
    "os.chdir(os.path.join(\"src\", \"cbr\"))"
   ]
  },
  {
   "cell_type": "code",
   "execution_count": 3,
   "metadata": {
    "collapsed": false,
    "pycharm": {
     "name": "#%%\n"
    }
   },
   "outputs": [
    {
     "ename": "ImportError",
     "evalue": "dlopen(/opt/homebrew/Caskroom/miniforge/base/lib/python3.9/site-packages/lxml/objectify.cpython-39-darwin.so, 0x0002): tried: '/opt/homebrew/Caskroom/miniforge/base/lib/python3.9/site-packages/lxml/objectify.cpython-39-darwin.so' (mach-o file, but is an incompatible architecture (have 'x86_64', need 'arm64e'))",
     "output_type": "error",
     "traceback": [
      "\u001b[0;31m---------------------------------------------------------------------------\u001b[0m",
      "\u001b[0;31mImportError\u001b[0m                               Traceback (most recent call last)",
      "\u001b[1;32m/Users/edisonjairbejaranosepulveda/Documents/AI_Master/Assigments/SEL_PW3/implementation.ipynb Cell 3'\u001b[0m in \u001b[0;36m<cell line: 5>\u001b[0;34m()\u001b[0m\n\u001b[1;32m      <a href='vscode-notebook-cell:/Users/edisonjairbejaranosepulveda/Documents/AI_Master/Assigments/SEL_PW3/implementation.ipynb#ch0000002?line=1'>2</a>\u001b[0m \u001b[39mimport\u001b[39;00m \u001b[39mpickle\u001b[39;00m\n\u001b[1;32m      <a href='vscode-notebook-cell:/Users/edisonjairbejaranosepulveda/Documents/AI_Master/Assigments/SEL_PW3/implementation.ipynb#ch0000002?line=3'>4</a>\u001b[0m \u001b[39m# Own libraries\u001b[39;00m\n\u001b[0;32m----> <a href='vscode-notebook-cell:/Users/edisonjairbejaranosepulveda/Documents/AI_Master/Assigments/SEL_PW3/implementation.ipynb#ch0000002?line=4'>5</a>\u001b[0m \u001b[39mfrom\u001b[39;00m \u001b[39mcbr\u001b[39;00m \u001b[39mimport\u001b[39;00m CBR\n\u001b[1;32m      <a href='vscode-notebook-cell:/Users/edisonjairbejaranosepulveda/Documents/AI_Master/Assigments/SEL_PW3/implementation.ipynb#ch0000002?line=5'>6</a>\u001b[0m \u001b[39mfrom\u001b[39;00m \u001b[39mentity\u001b[39;00m\u001b[39m.\u001b[39;00m\u001b[39mquery\u001b[39;00m \u001b[39mimport\u001b[39;00m Query\n\u001b[1;32m      <a href='vscode-notebook-cell:/Users/edisonjairbejaranosepulveda/Documents/AI_Master/Assigments/SEL_PW3/implementation.ipynb#ch0000002?line=6'>7</a>\u001b[0m \u001b[39mfrom\u001b[39;00m \u001b[39mdefinitions\u001b[39;00m \u001b[39mimport\u001b[39;00m CASE_LIBRARY \u001b[39mas\u001b[39;00m CASE_LIBRARY_PATH, DATA_PATH\n",
      "File \u001b[0;32m~/Documents/AI_Master/Assigments/SEL_PW3/src/cbr/cbr.py:4\u001b[0m, in \u001b[0;36m<module>\u001b[0;34m\u001b[0m\n\u001b[1;32m      <a href='file:///Users/edisonjairbejaranosepulveda/Documents/AI_Master/Assigments/SEL_PW3/src/cbr/cbr.py?line=0'>1</a>\u001b[0m \u001b[39mimport\u001b[39;00m \u001b[39mrandom\u001b[39;00m\n\u001b[1;32m      <a href='file:///Users/edisonjairbejaranosepulveda/Documents/AI_Master/Assigments/SEL_PW3/src/cbr/cbr.py?line=1'>2</a>\u001b[0m \u001b[39mimport\u001b[39;00m \u001b[39mcopy\u001b[39;00m\n\u001b[0;32m----> <a href='file:///Users/edisonjairbejaranosepulveda/Documents/AI_Master/Assigments/SEL_PW3/src/cbr/cbr.py?line=3'>4</a>\u001b[0m \u001b[39mfrom\u001b[39;00m \u001b[39mlxml\u001b[39;00m\u001b[39m.\u001b[39;00m\u001b[39mobjectify\u001b[39;00m \u001b[39mimport\u001b[39;00m SubElement\n\u001b[1;32m      <a href='file:///Users/edisonjairbejaranosepulveda/Documents/AI_Master/Assigments/SEL_PW3/src/cbr/cbr.py?line=5'>6</a>\u001b[0m \u001b[39mfrom\u001b[39;00m \u001b[39mdefinitions\u001b[39;00m \u001b[39mimport\u001b[39;00m CASE_LIBRARY \u001b[39mas\u001b[39;00m CASE_LIBRARY_PATH\n\u001b[1;32m      <a href='file:///Users/edisonjairbejaranosepulveda/Documents/AI_Master/Assigments/SEL_PW3/src/cbr/cbr.py?line=6'>7</a>\u001b[0m \u001b[39mfrom\u001b[39;00m \u001b[39msrc\u001b[39;00m\u001b[39m.\u001b[39;00m\u001b[39mcbr\u001b[39;00m\u001b[39m.\u001b[39;00m\u001b[39mcase_library\u001b[39;00m \u001b[39mimport\u001b[39;00m CaseLibrary\n",
      "\u001b[0;31mImportError\u001b[0m: dlopen(/opt/homebrew/Caskroom/miniforge/base/lib/python3.9/site-packages/lxml/objectify.cpython-39-darwin.so, 0x0002): tried: '/opt/homebrew/Caskroom/miniforge/base/lib/python3.9/site-packages/lxml/objectify.cpython-39-darwin.so' (mach-o file, but is an incompatible architecture (have 'x86_64', need 'arm64e'))"
     ]
    }
   ],
   "source": [
    "import random\n",
    "import pickle\n",
    "\n",
    "# Own libraries\n",
    "from cbr import CBR\n",
    "from entity.query import Query\n",
    "from definitions import CASE_LIBRARY as CASE_LIBRARY_PATH, DATA_PATH\n",
    "from case_library import CaseLibrary, ConstraintsBuilder\n",
    "\n",
    "random.seed(10)"
   ]
  },
  {
   "cell_type": "markdown",
   "metadata": {
    "collapsed": false,
    "pycharm": {
     "name": "#%% md\n"
    }
   },
   "source": [
    "\n",
    "# CBR IMPLEMENTATION\n",
    "\n",
    "Steps:\n",
    "\n",
    "\n",
    "1. Retrive the data from the case Libray\n",
    "2. Retrieve the new case\n",
    "3. Compute the similarity between the new case and the existing cases\n",
    "4. Retrieve the existing case with the highest similarity\n",
    "6. Select the best case and rule\n",
    "7. Adapt the solution\n",
    "8. Update the database\n",
    "9. Evalute the solution\n",
    "10. If the solution is not good, repeat the process\n",
    "11. If the solution is good, stop the process and return the solution and save it in the case Library\n",
    "12. Retrieve the new case"
   ]
  },
  {
   "cell_type": "code",
   "execution_count": 3,
   "metadata": {
    "collapsed": false,
    "pycharm": {
     "name": "#%%\n"
    }
   },
   "outputs": [],
   "source": [
    "# Pickle file containing the data\n",
    "path = os.path.join(DATA_PATH, \"processed-cocktails-data.pkl\")\n",
    "# Load the data <data>\n",
    "cocktails = pickle.load(open(path, \"rb\"))"
   ]
  },
  {
   "cell_type": "code",
   "execution_count": 4,
   "metadata": {
    "collapsed": false,
    "pycharm": {
     "name": "#%%\n"
    }
   },
   "outputs": [
    {
     "name": "stdout",
     "output_type": "stream",
     "text": [
      "The number of instances from the database 1781\n"
     ]
    },
    {
     "data": {
      "text/html": [
       "<div>\n",
       "<style scoped>\n",
       "    .dataframe tbody tr th:only-of-type {\n",
       "        vertical-align: middle;\n",
       "    }\n",
       "\n",
       "    .dataframe tbody tr th {\n",
       "        vertical-align: top;\n",
       "    }\n",
       "\n",
       "    .dataframe thead th {\n",
       "        text-align: right;\n",
       "    }\n",
       "</style>\n",
       "<table border=\"1\" class=\"dataframe\">\n",
       "  <thead>\n",
       "    <tr style=\"text-align: right;\">\n",
       "      <th></th>\n",
       "      <th>Cocktail</th>\n",
       "      <th>Category</th>\n",
       "      <th>Glass</th>\n",
       "      <th>Ingredient</th>\n",
       "      <th>Alc_type</th>\n",
       "      <th>Basic_taste</th>\n",
       "      <th>Steps</th>\n",
       "      <th>Measure</th>\n",
       "      <th>Value_ml</th>\n",
       "      <th>Value_gr</th>\n",
       "      <th>Garnish_amount</th>\n",
       "      <th>Garnish_type</th>\n",
       "    </tr>\n",
       "    <tr>\n",
       "      <th>index</th>\n",
       "      <th></th>\n",
       "      <th></th>\n",
       "      <th></th>\n",
       "      <th></th>\n",
       "      <th></th>\n",
       "      <th></th>\n",
       "      <th></th>\n",
       "      <th></th>\n",
       "      <th></th>\n",
       "      <th></th>\n",
       "      <th></th>\n",
       "      <th></th>\n",
       "    </tr>\n",
       "  </thead>\n",
       "  <tbody>\n",
       "    <tr>\n",
       "      <th>0</th>\n",
       "      <td>'57 Chevy with a White License Plate</td>\n",
       "      <td>cocktail</td>\n",
       "      <td>highball glass</td>\n",
       "      <td>creme de cacao white</td>\n",
       "      <td>creamy liqueur</td>\n",
       "      <td>NaN</td>\n",
       "      <td>1. fill a rocks glass with ice 2.add white cre...</td>\n",
       "      <td>1 oz white</td>\n",
       "      <td>30.0</td>\n",
       "      <td>0.0</td>\n",
       "      <td>0.0</td>\n",
       "      <td>NaN</td>\n",
       "    </tr>\n",
       "    <tr>\n",
       "      <th>1</th>\n",
       "      <td>'57 Chevy with a White License Plate</td>\n",
       "      <td>cocktail</td>\n",
       "      <td>highball glass</td>\n",
       "      <td>vodka</td>\n",
       "      <td>vodka</td>\n",
       "      <td>NaN</td>\n",
       "      <td>1. fill a rocks glass with ice 2.add white cre...</td>\n",
       "      <td>1 oz</td>\n",
       "      <td>30.0</td>\n",
       "      <td>0.0</td>\n",
       "      <td>0.0</td>\n",
       "      <td>NaN</td>\n",
       "    </tr>\n",
       "    <tr>\n",
       "      <th>2</th>\n",
       "      <td>1-900-FUK-MEUP</td>\n",
       "      <td>shot</td>\n",
       "      <td>old-fashioned glass</td>\n",
       "      <td>grand marnier</td>\n",
       "      <td>triple sec</td>\n",
       "      <td>NaN</td>\n",
       "      <td>shake ingredients in a mixing tin filled with ...</td>\n",
       "      <td>1/4 oz</td>\n",
       "      <td>7.5</td>\n",
       "      <td>0.0</td>\n",
       "      <td>0.0</td>\n",
       "      <td>NaN</td>\n",
       "    </tr>\n",
       "    <tr>\n",
       "      <th>3</th>\n",
       "      <td>1-900-FUK-MEUP</td>\n",
       "      <td>shot</td>\n",
       "      <td>old-fashioned glass</td>\n",
       "      <td>midori melon liqueur</td>\n",
       "      <td>sweet liqueur</td>\n",
       "      <td>NaN</td>\n",
       "      <td>shake ingredients in a mixing tin filled with ...</td>\n",
       "      <td>1/4 oz</td>\n",
       "      <td>7.5</td>\n",
       "      <td>0.0</td>\n",
       "      <td>0.0</td>\n",
       "      <td>NaN</td>\n",
       "    </tr>\n",
       "    <tr>\n",
       "      <th>4</th>\n",
       "      <td>1-900-FUK-MEUP</td>\n",
       "      <td>shot</td>\n",
       "      <td>old-fashioned glass</td>\n",
       "      <td>malibu rum</td>\n",
       "      <td>rum</td>\n",
       "      <td>NaN</td>\n",
       "      <td>shake ingredients in a mixing tin filled with ...</td>\n",
       "      <td>1/4 oz</td>\n",
       "      <td>7.5</td>\n",
       "      <td>0.0</td>\n",
       "      <td>0.0</td>\n",
       "      <td>NaN</td>\n",
       "    </tr>\n",
       "  </tbody>\n",
       "</table>\n",
       "</div>"
      ],
      "text/plain": [
       "                                   Cocktail  Category                Glass  \\\n",
       "index                                                                        \n",
       "0      '57 Chevy with a White License Plate  cocktail       highball glass   \n",
       "1      '57 Chevy with a White License Plate  cocktail       highball glass   \n",
       "2                            1-900-FUK-MEUP      shot  old-fashioned glass   \n",
       "3                            1-900-FUK-MEUP      shot  old-fashioned glass   \n",
       "4                            1-900-FUK-MEUP      shot  old-fashioned glass   \n",
       "\n",
       "                 Ingredient        Alc_type Basic_taste  \\\n",
       "index                                                     \n",
       "0      creme de cacao white  creamy liqueur         NaN   \n",
       "1                     vodka           vodka         NaN   \n",
       "2             grand marnier      triple sec         NaN   \n",
       "3      midori melon liqueur   sweet liqueur         NaN   \n",
       "4                malibu rum             rum         NaN   \n",
       "\n",
       "                                                   Steps     Measure  \\\n",
       "index                                                                  \n",
       "0      1. fill a rocks glass with ice 2.add white cre...  1 oz white   \n",
       "1      1. fill a rocks glass with ice 2.add white cre...        1 oz   \n",
       "2      shake ingredients in a mixing tin filled with ...      1/4 oz   \n",
       "3      shake ingredients in a mixing tin filled with ...      1/4 oz   \n",
       "4      shake ingredients in a mixing tin filled with ...      1/4 oz   \n",
       "\n",
       "       Value_ml  Value_gr  Garnish_amount Garnish_type  \n",
       "index                                                   \n",
       "0          30.0       0.0             0.0          NaN  \n",
       "1          30.0       0.0             0.0          NaN  \n",
       "2           7.5       0.0             0.0          NaN  \n",
       "3           7.5       0.0             0.0          NaN  \n",
       "4           7.5       0.0             0.0          NaN  "
      ]
     },
     "execution_count": 4,
     "metadata": {},
     "output_type": "execute_result"
    }
   ],
   "source": [
    "print(f\"The number of instances from the database {len(cocktails)}\")\n",
    "cocktails.head()"
   ]
  },
  {
   "cell_type": "markdown",
   "metadata": {
    "collapsed": false,
    "pycharm": {
     "name": "#%% md\n"
    }
   },
   "source": [
    "## RETRIEVE"
   ]
  },
  {
   "cell_type": "code",
   "execution_count": 3,
   "metadata": {
    "pycharm": {
     "name": "#%%\n"
    }
   },
   "outputs": [],
   "source": [
    "query = Query()\n",
    "query.set_category(\"ordinary drink\")\n",
    "query.set_glass(\"old-fashioned glass\")\n",
    "query.set_ingredients([\"orange juice\"])\n",
    "query.set_exc_ingredients([\"rum\", \"grenadine\"])\n",
    "query.set_alc_types([\"gin\"])\n",
    "query.set_basic_tastes([\"salty\"])\n",
    "\n",
    "# TODO: retrieve 5 recipes similar to the query from the case library\n",
    "# Random recipes for now\n",
    "CASE_LIBRARY = CaseLibrary(CASE_LIBRARY_PATH)\n",
    "CONSTRAINT = ConstraintsBuilder(include_category=query.get_category(), include_glass=query.get_glass())\n",
    "recipes = random.choices(CASE_LIBRARY.findall(CONSTRAINT), k=5)"
   ]
  },
  {
   "cell_type": "markdown",
   "metadata": {
    "collapsed": false,
    "pycharm": {
     "name": "#%% md\n"
    }
   },
   "source": [
    "## ADAPT"
   ]
  },
  {
   "cell_type": "code",
   "execution_count": 4,
   "metadata": {
    "pycharm": {
     "name": "#%%\n"
    }
   },
   "outputs": [
    {
     "name": "stdout",
     "output_type": "stream",
     "text": [
      "Ingredients before: ['151 proof rum', 'grenadine', 'kahlua']\n",
      "Steps before: ['mix ingr2 and ingr0 in glass', 'quickly add ice and pour ingr1 over ice to give ice red tint']\n",
      "Ingredients after: ['151 proof rum', 'orange juice', 'kahlua', 'gin', 'salt']\n",
      "Steps after: ['mix ingr2 and ingr0 in glass', 'add ingr4 to taste', 'add 2 oz of ingr3', 'quickly add ice and pour ingr1 over ice to give ice red tint']\n"
     ]
    }
   ],
   "source": [
    "print(f\"Ingredients before: {[e.text for e in recipes[0].ingredients.iterchildren()]}\")\n",
    "print(f\"Steps before: {[e.text for e in recipes[0].preparation.iterchildren()]}\")\n",
    "\n",
    "cbr = CBR(query, recipes)\n",
    "cbr.adapt()\n",
    "output = cbr.recipe\n",
    "\n",
    "print(f\"Ingredients after: {[e.text for e in output.ingredients.iterchildren()]}\")\n",
    "print(f\"Steps after: {[e.text for e in output.preparation.iterchildren()]}\")"
   ]
  },
  {
   "cell_type": "markdown",
   "metadata": {
    "collapsed": false,
    "pycharm": {
     "name": "#%% md\n"
    }
   },
   "source": [
    "## EVAL"
   ]
  },
  {
   "cell_type": "code",
   "execution_count": null,
   "metadata": {
    "pycharm": {
     "name": "#%%\n"
    }
   },
   "outputs": [],
   "source": []
  },
  {
   "cell_type": "markdown",
   "metadata": {
    "collapsed": false,
    "pycharm": {
     "name": "#%% md\n"
    }
   },
   "source": [
    "## LEARN"
   ]
  },
  {
   "cell_type": "code",
   "execution_count": null,
   "metadata": {
    "pycharm": {
     "name": "#%%\n"
    }
   },
   "outputs": [],
   "source": []
  }
 ],
 "metadata": {
  "kernelspec": {
   "display_name": "Python 3.9.12 ('base')",
   "language": "python",
   "name": "python3"
  },
  "language_info": {
   "codemirror_mode": {
    "name": "ipython",
    "version": 3
   },
   "file_extension": ".py",
   "mimetype": "text/x-python",
   "name": "python",
   "nbconvert_exporter": "python",
   "pygments_lexer": "ipython3",
   "version": "3.9.12"
  },
  "orig_nbformat": 4,
  "vscode": {
   "interpreter": {
    "hash": "c6e4e9f98eb68ad3b7c296f83d20e6de614cb42e90992a65aa266555a3137d0d"
   }
  }
 },
 "nbformat": 4,
 "nbformat_minor": 2
}
