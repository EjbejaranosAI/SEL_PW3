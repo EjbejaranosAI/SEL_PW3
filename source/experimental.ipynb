{
 "cells": [
  {
   "cell_type": "code",
   "execution_count": 35,
   "outputs": [],
   "source": [
    "import os\n",
    "\n",
    "import pandas as pd\n",
    "from matplotlib import pyplot as plt\n",
    "\n",
    "from source.utils.helper import bar_plot"
   ],
   "metadata": {
    "collapsed": false,
    "pycharm": {
     "name": "#%%\n"
    }
   }
  },
  {
   "cell_type": "code",
   "execution_count": 36,
   "outputs": [],
   "source": [
    "data_path = os.path.join(\"..\", \"data\")"
   ],
   "metadata": {
    "collapsed": false,
    "pycharm": {
     "name": "#%%\n"
    }
   }
  },
  {
   "cell_type": "code",
   "execution_count": 37,
   "outputs": [],
   "source": [
    "df = pd.read_csv(\n",
    "    os.path.join(data_path, \"data_cocktails.csv\"),\n",
    "    index_col=0,\n",
    "    encoding=\"utf-8\",\n",
    "    dtype={\n",
    "        \"index\": int,\n",
    "        \"strDrink\": str,\n",
    "        \"strCategory\": str,\n",
    "        \"strGlass\": str,\n",
    "        \"strIngredients\": str,\n",
    "        \"Alc_type\": str,\n",
    "        \"Basic_taste\": str,\n",
    "        \"strInstructions\": str,\n",
    "        \"strMeasures\": str,\n",
    "        \"Value_ml\": float,\n",
    "        \"Value_gr\": float,\n",
    "        \"Garnish_amount\": str,\n",
    "        \"Garnish_type\": str,\n",
    "    },\n",
    ")"
   ],
   "metadata": {
    "collapsed": false,
    "pycharm": {
     "name": "#%%\n"
    }
   }
  },
  {
   "cell_type": "code",
   "execution_count": 38,
   "outputs": [
    {
     "data": {
      "text/plain": "                                   strDrink strCategory             strGlass  \\\nindex                                                                          \n0      '57 Chevy with a White License Plate    Cocktail       Highball glass   \n1      '57 Chevy with a White License Plate    Cocktail       Highball glass   \n2                            1-900-FUK-MEUP        Shot  Old-fashioned glass   \n3                            1-900-FUK-MEUP        Shot  Old-fashioned glass   \n4                            1-900-FUK-MEUP        Shot  Old-fashioned glass   \n\n             strIngredients        Alc_type Basic_taste  \\\nindex                                                     \n0      Creme De Cacao White  Creamy Liqueur         NaN   \n1                     Vodka           Vodka         NaN   \n2             Grand Marnier      Triple Sec         NaN   \n3      Midori Melon Liqueur   Sweet Liqueur         NaN   \n4                Malibu Rum             Rum         NaN   \n\n                                         strInstructions strMeasures  \\\nindex                                                                  \n0      1. Fill a rocks glass with ice 2.add white cre...  1 oz white   \n1      1. Fill a rocks glass with ice 2.add white cre...        1 oz   \n2      Shake ingredients in a mixing tin filled with ...      1/4 oz   \n3      Shake ingredients in a mixing tin filled with ...      1/4 oz   \n4      Shake ingredients in a mixing tin filled with ...      1/4 oz   \n\n       Value_ml  Value_gr Garnish_amount Garnish_type  \nindex                                                  \n0          30.0       NaN            NaN          NaN  \n1          30.0       NaN            NaN          NaN  \n2           7.5       NaN            NaN          NaN  \n3           7.5       NaN            NaN          NaN  \n4           7.5       NaN            NaN          NaN  ",
      "text/html": "<div>\n<style scoped>\n    .dataframe tbody tr th:only-of-type {\n        vertical-align: middle;\n    }\n\n    .dataframe tbody tr th {\n        vertical-align: top;\n    }\n\n    .dataframe thead th {\n        text-align: right;\n    }\n</style>\n<table border=\"1\" class=\"dataframe\">\n  <thead>\n    <tr style=\"text-align: right;\">\n      <th></th>\n      <th>strDrink</th>\n      <th>strCategory</th>\n      <th>strGlass</th>\n      <th>strIngredients</th>\n      <th>Alc_type</th>\n      <th>Basic_taste</th>\n      <th>strInstructions</th>\n      <th>strMeasures</th>\n      <th>Value_ml</th>\n      <th>Value_gr</th>\n      <th>Garnish_amount</th>\n      <th>Garnish_type</th>\n    </tr>\n    <tr>\n      <th>index</th>\n      <th></th>\n      <th></th>\n      <th></th>\n      <th></th>\n      <th></th>\n      <th></th>\n      <th></th>\n      <th></th>\n      <th></th>\n      <th></th>\n      <th></th>\n      <th></th>\n    </tr>\n  </thead>\n  <tbody>\n    <tr>\n      <th>0</th>\n      <td>'57 Chevy with a White License Plate</td>\n      <td>Cocktail</td>\n      <td>Highball glass</td>\n      <td>Creme De Cacao White</td>\n      <td>Creamy Liqueur</td>\n      <td>NaN</td>\n      <td>1. Fill a rocks glass with ice 2.add white cre...</td>\n      <td>1 oz white</td>\n      <td>30.0</td>\n      <td>NaN</td>\n      <td>NaN</td>\n      <td>NaN</td>\n    </tr>\n    <tr>\n      <th>1</th>\n      <td>'57 Chevy with a White License Plate</td>\n      <td>Cocktail</td>\n      <td>Highball glass</td>\n      <td>Vodka</td>\n      <td>Vodka</td>\n      <td>NaN</td>\n      <td>1. Fill a rocks glass with ice 2.add white cre...</td>\n      <td>1 oz</td>\n      <td>30.0</td>\n      <td>NaN</td>\n      <td>NaN</td>\n      <td>NaN</td>\n    </tr>\n    <tr>\n      <th>2</th>\n      <td>1-900-FUK-MEUP</td>\n      <td>Shot</td>\n      <td>Old-fashioned glass</td>\n      <td>Grand Marnier</td>\n      <td>Triple Sec</td>\n      <td>NaN</td>\n      <td>Shake ingredients in a mixing tin filled with ...</td>\n      <td>1/4 oz</td>\n      <td>7.5</td>\n      <td>NaN</td>\n      <td>NaN</td>\n      <td>NaN</td>\n    </tr>\n    <tr>\n      <th>3</th>\n      <td>1-900-FUK-MEUP</td>\n      <td>Shot</td>\n      <td>Old-fashioned glass</td>\n      <td>Midori Melon Liqueur</td>\n      <td>Sweet Liqueur</td>\n      <td>NaN</td>\n      <td>Shake ingredients in a mixing tin filled with ...</td>\n      <td>1/4 oz</td>\n      <td>7.5</td>\n      <td>NaN</td>\n      <td>NaN</td>\n      <td>NaN</td>\n    </tr>\n    <tr>\n      <th>4</th>\n      <td>1-900-FUK-MEUP</td>\n      <td>Shot</td>\n      <td>Old-fashioned glass</td>\n      <td>Malibu Rum</td>\n      <td>Rum</td>\n      <td>NaN</td>\n      <td>Shake ingredients in a mixing tin filled with ...</td>\n      <td>1/4 oz</td>\n      <td>7.5</td>\n      <td>NaN</td>\n      <td>NaN</td>\n      <td>NaN</td>\n    </tr>\n  </tbody>\n</table>\n</div>"
     },
     "execution_count": 38,
     "metadata": {},
     "output_type": "execute_result"
    }
   ],
   "source": [
    "df.head()"
   ],
   "metadata": {
    "collapsed": false,
    "pycharm": {
     "name": "#%%\n"
    }
   }
  },
  {
   "cell_type": "markdown",
   "source": [
    "## Categories distribution\n",
    "### Drink category"
   ],
   "metadata": {
    "collapsed": false,
    "pycharm": {
     "name": "#%% md\n"
    }
   }
  },
  {
   "cell_type": "code",
   "execution_count": 39,
   "outputs": [
    {
     "data": {
      "text/plain": "<Figure size 432x288 with 1 Axes>",
      "image/png": "[encoded data removed]"
     },
     "metadata": {
      "needs_background": "light"
     },
     "output_type": "display_data"
    }
   ],
   "source": [
    "bar_plot(df, \"strCategory\")"
   ],
   "metadata": {
    "collapsed": false,
    "pycharm": {
     "name": "#%%\n"
    }
   }
  },
  {
   "cell_type": "markdown",
   "source": [
    "### Type of glass"
   ],
   "metadata": {
    "collapsed": false,
    "pycharm": {
     "name": "#%% md\n"
    }
   }
  },
  {
   "cell_type": "code",
   "execution_count": 40,
   "outputs": [
    {
     "data": {
      "text/plain": "<Figure size 432x288 with 1 Axes>",
      "image/png": "[encoded data removed]"
     },
     "metadata": {
      "needs_background": "light"
     },
     "output_type": "display_data"
    }
   ],
   "source": [
    "bar_plot(df, \"strGlass\")"
   ],
   "metadata": {
    "collapsed": false,
    "pycharm": {
     "name": "#%%\n"
    }
   }
  },
  {
   "cell_type": "markdown",
   "source": [
    "### Alcohol type"
   ],
   "metadata": {
    "collapsed": false,
    "pycharm": {
     "name": "#%% md\n"
    }
   }
  },
  {
   "cell_type": "code",
   "execution_count": 41,
   "outputs": [
    {
     "data": {
      "text/plain": "<Figure size 432x288 with 1 Axes>",
      "image/png": "[encoded data removed]"
     },
     "metadata": {
      "needs_background": "light"
     },
     "output_type": "display_data"
    }
   ],
   "source": [
    "bar_plot(df, \"Alc_type\")"
   ],
   "metadata": {
    "collapsed": false,
    "pycharm": {
     "name": "#%%\n"
    }
   }
  },
  {
   "cell_type": "markdown",
   "source": [
    "### Basic taste"
   ],
   "metadata": {
    "collapsed": false,
    "pycharm": {
     "name": "#%% md\n"
    }
   }
  },
  {
   "cell_type": "code",
   "execution_count": 42,
   "outputs": [
    {
     "data": {
      "text/plain": "<Figure size 432x288 with 1 Axes>",
      "image/png": "[encoded data removed]"
     },
     "metadata": {
      "needs_background": "light"
     },
     "output_type": "display_data"
    }
   ],
   "source": [
    "bar_plot(df, \"Basic_taste\")"
   ],
   "metadata": {
    "collapsed": false,
    "pycharm": {
     "name": "#%%\n"
    }
   }
  },
  {
   "cell_type": "markdown",
   "source": [
    "### Garnish types"
   ],
   "metadata": {
    "collapsed": false,
    "pycharm": {
     "name": "#%% md\n"
    }
   }
  },
  {
   "cell_type": "code",
   "execution_count": 43,
   "outputs": [
    {
     "data": {
      "text/plain": "<Figure size 432x288 with 1 Axes>",
      "image/png": "[encoded data removed]"
     },
     "metadata": {
      "needs_background": "light"
     },
     "output_type": "display_data"
    }
   ],
   "source": [
    "bar_plot(df, \"Garnish_type\")"
   ],
   "metadata": {
    "collapsed": false,
    "pycharm": {
     "name": "#%%\n"
    }
   }
  },
  {
   "cell_type": "markdown",
   "source": [
    "### Preparation steps for each recipe\n",
    "Here we see that the instructions feature is the same for all the multiple rows belonging to the same recipe."
   ],
   "metadata": {
    "collapsed": false,
    "pycharm": {
     "name": "#%% md\n"
    }
   }
  },
  {
   "cell_type": "code",
   "execution_count": 44,
   "outputs": [
    {
     "data": {
      "text/plain": "strDrink\n'57 Chevy with a White License Plate    1\n1-900-FUK-MEUP                          1\n110 in the shade                        1\n151 Florida Bushwacker                  1\n155 Belmont                             1\n                                       ..\nZipperhead                              1\nZippy's Revenge                         1\nZizi Coin-coin                          1\nZorbatini                               1\nZorro                                   1\nName: strInstructions, Length: 473, dtype: int64"
     },
     "execution_count": 44,
     "metadata": {},
     "output_type": "execute_result"
    }
   ],
   "source": [
    "df.groupby(\"strDrink\")[\"strInstructions\"].nunique()"
   ],
   "metadata": {
    "collapsed": false,
    "pycharm": {
     "name": "#%%\n"
    }
   }
  },
  {
   "cell_type": "markdown",
   "source": [
    "## Clean data\n",
    "\n",
    "### Clean Garnish_amount column"
   ],
   "metadata": {
    "collapsed": false,
    "pycharm": {
     "name": "#%% md\n"
    }
   }
  },
  {
   "cell_type": "code",
   "execution_count": null,
   "outputs": [],
   "source": [
    "df[\"Garnish_amount\"].unique()"
   ],
   "metadata": {
    "collapsed": false,
    "pycharm": {
     "name": "#%%\n"
    }
   }
  },
  {
   "cell_type": "markdown",
   "source": [
    "Replace non-numerical measures in `Garnish_amount` and transform the column into float values."
   ],
   "metadata": {
    "collapsed": false,
    "pycharm": {
     "name": "#%% md\n"
    }
   }
  },
  {
   "cell_type": "code",
   "execution_count": null,
   "outputs": [],
   "source": [
    "df[\"Garnish_amount\"].replace(\"1/2\", \"0.5\", inplace=True)\n",
    "df[\"Garnish_amount\"] = df[\"Garnish_amount\"].astype(\"float\")"
   ],
   "metadata": {
    "collapsed": false,
    "pycharm": {
     "name": "#%%\n"
    }
   }
  },
  {
   "cell_type": "markdown",
   "source": [
    "### Treat NaNs"
   ],
   "metadata": {
    "collapsed": false,
    "pycharm": {
     "name": "#%% md\n"
    }
   }
  },
  {
   "cell_type": "code",
   "execution_count": null,
   "outputs": [],
   "source": [
    "df.isna().sum().plot.bar()\n",
    "plt.show()"
   ],
   "metadata": {
    "collapsed": false,
    "pycharm": {
     "name": "#%%\n"
    }
   }
  },
  {
   "cell_type": "markdown",
   "source": [
    "Fill all NaN values with 0 in the numerical columns."
   ],
   "metadata": {
    "collapsed": false,
    "pycharm": {
     "name": "#%% md\n"
    }
   }
  },
  {
   "cell_type": "code",
   "execution_count": null,
   "outputs": [],
   "source": [
    "numerical_cols = df.select_dtypes(include=\"number\").columns\n",
    "df[numerical_cols] = df.loc[:, numerical_cols].fillna(0.0)"
   ],
   "metadata": {
    "collapsed": false,
    "pycharm": {
     "name": "#%%\n"
    }
   }
  },
  {
   "cell_type": "markdown",
   "source": [
    "### Treat strings"
   ],
   "metadata": {
    "collapsed": false,
    "pycharm": {
     "name": "#%% md\n"
    }
   }
  },
  {
   "cell_type": "markdown",
   "source": [
    "Convert all strings to lowercase except for the cocktail name"
   ],
   "metadata": {
    "collapsed": false,
    "pycharm": {
     "name": "#%% md\n"
    }
   }
  },
  {
   "cell_type": "code",
   "execution_count": null,
   "outputs": [],
   "source": [
    "str_columns = [\n",
    "    \"strCategory\",\n",
    "    \"strGlass\",\n",
    "    \"strIngredients\",\n",
    "    \"Alc_type\",\n",
    "    \"Basic_taste\",\n",
    "    \"strInstructions\",\n",
    "    \"strMeasures\",\n",
    "    \"Garnish_type\",\n",
    "]\n",
    "df[str_columns] = df[str_columns].applymap(lambda x: x.lower(), na_action=\"ignore\")"
   ],
   "metadata": {
    "collapsed": false,
    "pycharm": {
     "name": "#%%\n"
    }
   }
  },
  {
   "cell_type": "markdown",
   "source": [
    "### Rename columns"
   ],
   "metadata": {
    "collapsed": false,
    "pycharm": {
     "name": "#%% md\n"
    }
   }
  },
  {
   "cell_type": "code",
   "execution_count": null,
   "outputs": [],
   "source": [
    "new_names = {\n",
    "    \"strDrink\": \"Cocktail\",\n",
    "    \"strCategory\": \"Category\",\n",
    "    \"strGlass\": \"Glass\",\n",
    "    \"strIngredients\": \"Ingredient\",\n",
    "    \"strInstructions\": \"Steps\",\n",
    "    \"strMeasures\": \"Measure\",\n",
    "}\n",
    "df.rename(columns=new_names, inplace=True)"
   ],
   "metadata": {
    "collapsed": false,
    "pycharm": {
     "name": "#%%\n"
    }
   }
  },
  {
   "cell_type": "markdown",
   "source": [
    "### Save file"
   ],
   "metadata": {
    "collapsed": false,
    "pycharm": {
     "name": "#%% md\n"
    }
   }
  },
  {
   "cell_type": "code",
   "execution_count": null,
   "outputs": [],
   "source": [
    "df.to_pickle(os.path.join(data_path, \"processed-cocktails-data.pkl\"))\n"
   ],
   "metadata": {
    "collapsed": false,
    "pycharm": {
     "name": "#%%\n"
    }
   }
  }
 ],
 "metadata": {
  "kernelspec": {
   "display_name": "Python 3.9.12 ('base')",
   "language": "python",
   "name": "python3"
  },
  "language_info": {
   "codemirror_mode": {
    "name": "ipython",
    "version": 3
   },
   "file_extension": ".py",
   "mimetype": "text/x-python",
   "name": "python",
   "nbconvert_exporter": "python",
   "pygments_lexer": "ipython3",
   "version": "3.9.12"
  },
  "orig_nbformat": 4,
  "vscode": {
   "interpreter": {
    "hash": "c6e4e9f98eb68ad3b7c296f83d20e6de614cb42e90992a65aa266555a3137d0d"
   }
  }
 },
 "nbformat": 4,
 "nbformat_minor": 2
}